{
 "cells": [
  {
   "cell_type": "code",
   "execution_count": 1,
   "id": "abddb604-30f0-4364-b9f7-2ccd40546b4e",
   "metadata": {},
   "outputs": [],
   "source": [
    "import csv"
   ]
  },
  {
   "cell_type": "code",
   "execution_count": 2,
   "id": "1617d744-0df4-4f92-9b57-3774ff4b4b4f",
   "metadata": {},
   "outputs": [],
   "source": [
    "with open(\"trees.csv\", newline='') as f:\n",
    "    df = csv.reader(f)\n",
    "    data = list(df)"
   ]
  },
  {
   "cell_type": "markdown",
   "id": "53d861e6-2157-4b04-be45-2ccd90fbb87c",
   "metadata": {},
   "source": [
    "1.Pour commencer, identifiez tous les genres botaniques représentés à Grenoble.\n",
    "Combien y en a-t-il ? Essayez plusieurs manières de résoudre ce problème."
   ]
  },
  {
   "cell_type": "code",
   "execution_count": 3,
   "id": "4be763f6-740e-4c0f-bcfb-3e9c385774da",
   "metadata": {},
   "outputs": [
    {
     "data": {
      "text/plain": [
       "['ï»¿ELEM_POINT_ID',\n",
       " 'CODE',\n",
       " 'NOM',\n",
       " 'GENRE',\n",
       " 'GENRE_DESC',\n",
       " 'CATEGORIE',\n",
       " 'CATEGORIE_DESC',\n",
       " 'SOUS_CATEGORIE',\n",
       " 'SOUS_CATEGORIE_DESC',\n",
       " 'CODE_PARENT',\n",
       " 'CODE_PARENT_DESC',\n",
       " 'ADR_SECTEUR',\n",
       " 'BIEN_REFERENCE',\n",
       " 'GENRE_BOTA',\n",
       " 'ESPECE',\n",
       " 'VARIETE',\n",
       " 'STADEDEDEVELOPPEMENT',\n",
       " 'EQUIPE',\n",
       " 'REMARQUES',\n",
       " 'ANNEEDEPLANTATION',\n",
       " 'RAISONDEPLANTATION',\n",
       " 'TRAITEMENTCHENILLES',\n",
       " 'COURRIER',\n",
       " 'IDENTIFIANTPLU',\n",
       " 'TYPEIMPLANTATIONPLU',\n",
       " 'INTITULEPROTECTIONPLU',\n",
       " 'ANNEEABATTAGE',\n",
       " 'ESSOUCHEMENT',\n",
       " 'DIAMETREARBRE',\n",
       " 'CAUSEABATTAGE',\n",
       " 'COLLECTIVITE',\n",
       " 'GeoJSON']"
      ]
     },
     "execution_count": 3,
     "metadata": {},
     "output_type": "execute_result"
    }
   ],
   "source": [
    "data[0]"
   ]
  },
  {
   "cell_type": "code",
   "execution_count": 4,
   "id": "56adba57-5418-4e66-933e-0b49922ef67d",
   "metadata": {},
   "outputs": [
    {
     "data": {
      "text/plain": [
       "13"
      ]
     },
     "execution_count": 4,
     "metadata": {},
     "output_type": "execute_result"
    }
   ],
   "source": [
    "data[0].index('GENRE_BOTA')"
   ]
  },
  {
   "cell_type": "code",
   "execution_count": 5,
   "id": "334a78c0-7776-41b8-8fcb-3977dab11646",
   "metadata": {},
   "outputs": [],
   "source": [
    "genre_botanique = []\n",
    "for i in range(len(data)):\n",
    "    genre_botanique.append(data[i][13])\n",
    "#genre_botanique"
   ]
  },
  {
   "cell_type": "code",
   "execution_count": 6,
   "id": "4514ca40-932d-435f-a3f0-6ac50a3e1e87",
   "metadata": {},
   "outputs": [],
   "source": [
    "genre_botanique_unique = set(genre_botanique)\n",
    "genre_botanique_unique.remove('GENRE_BOTA')\n",
    "genre_botanique_unique.remove('')\n",
    "genre_botanique_unique = list(genre_botanique_unique)\n",
    "#genre_botanique_unique"
   ]
  },
  {
   "cell_type": "code",
   "execution_count": 7,
   "id": "c66fe017-8b26-4844-bb44-141445d73853",
   "metadata": {},
   "outputs": [
    {
     "data": {
      "text/plain": [
       "112"
      ]
     },
     "execution_count": 7,
     "metadata": {},
     "output_type": "execute_result"
    }
   ],
   "source": [
    "a = 0\n",
    "for i in genre_botanique_unique:\n",
    "    a += 1\n",
    "a"
   ]
  },
  {
   "cell_type": "markdown",
   "id": "0433c697-900d-4a54-b8b5-4ae15a7b76ee",
   "metadata": {},
   "source": [
    "Il y a 112 genre botanique differents a Grenoble"
   ]
  },
  {
   "cell_type": "markdown",
   "id": "766c7d04-0d99-4d11-8e85-94d44acefed7",
   "metadata": {},
   "source": [
    "1.2"
   ]
  },
  {
   "cell_type": "code",
   "execution_count": 8,
   "id": "b5c89d74-9d37-4070-968b-2a372a1c6d35",
   "metadata": {},
   "outputs": [],
   "source": [
    "genre_botanique_unique2 = []\n",
    "for i in genre_botanique:\n",
    "    if i not in genre_botanique_unique2:\n",
    "        genre_botanique_unique2.append(i)\n",
    "#genre_botanique_unique2"
   ]
  },
  {
   "cell_type": "markdown",
   "id": "1457bec0-2650-4f22-b602-c903cdb1772f",
   "metadata": {},
   "source": [
    "genre_botanique_unique2.pop(0)"
   ]
  },
  {
   "cell_type": "code",
   "execution_count": 9,
   "id": "b17bc1d9-c06e-4574-9d48-18383bef5277",
   "metadata": {},
   "outputs": [
    {
     "data": {
      "text/plain": [
       "114"
      ]
     },
     "execution_count": 9,
     "metadata": {},
     "output_type": "execute_result"
    }
   ],
   "source": [
    "a = 0\n",
    "for i in genre_botanique_unique2:\n",
    "    a += 1\n",
    "a"
   ]
  },
  {
   "cell_type": "markdown",
   "id": "8f4f6a54-d859-42d4-99aa-2dcc04f56583",
   "metadata": {},
   "source": [
    "2.Identifiez maintenant toutes les espèces différentes présentes à Grenoble.\n",
    "N’oubliez pas que les espèces sont une sous catégorie de genre botanique !\n",
    "(l’espèce est ‘Platanus Acerifolia’ et pas uniquement ‘Acerifolia’)"
   ]
  },
  {
   "cell_type": "code",
   "execution_count": 10,
   "id": "a6670199-15b0-4d0a-acf6-822de476b2fa",
   "metadata": {},
   "outputs": [
    {
     "data": {
      "text/plain": [
       "['ï»¿ELEM_POINT_ID',\n",
       " 'CODE',\n",
       " 'NOM',\n",
       " 'GENRE',\n",
       " 'GENRE_DESC',\n",
       " 'CATEGORIE',\n",
       " 'CATEGORIE_DESC',\n",
       " 'SOUS_CATEGORIE',\n",
       " 'SOUS_CATEGORIE_DESC',\n",
       " 'CODE_PARENT',\n",
       " 'CODE_PARENT_DESC',\n",
       " 'ADR_SECTEUR',\n",
       " 'BIEN_REFERENCE',\n",
       " 'GENRE_BOTA',\n",
       " 'ESPECE',\n",
       " 'VARIETE',\n",
       " 'STADEDEDEVELOPPEMENT',\n",
       " 'EQUIPE',\n",
       " 'REMARQUES',\n",
       " 'ANNEEDEPLANTATION',\n",
       " 'RAISONDEPLANTATION',\n",
       " 'TRAITEMENTCHENILLES',\n",
       " 'COURRIER',\n",
       " 'IDENTIFIANTPLU',\n",
       " 'TYPEIMPLANTATIONPLU',\n",
       " 'INTITULEPROTECTIONPLU',\n",
       " 'ANNEEABATTAGE',\n",
       " 'ESSOUCHEMENT',\n",
       " 'DIAMETREARBRE',\n",
       " 'CAUSEABATTAGE',\n",
       " 'COLLECTIVITE',\n",
       " 'GeoJSON']"
      ]
     },
     "execution_count": 10,
     "metadata": {},
     "output_type": "execute_result"
    }
   ],
   "source": [
    "data[0]"
   ]
  },
  {
   "cell_type": "code",
   "execution_count": 11,
   "id": "5fab19cc-1654-4381-ba5a-451cf82dbc0b",
   "metadata": {},
   "outputs": [
    {
     "data": {
      "text/plain": [
       "14"
      ]
     },
     "execution_count": 11,
     "metadata": {},
     "output_type": "execute_result"
    }
   ],
   "source": [
    "data[0].index('ESPECE')"
   ]
  },
  {
   "cell_type": "code",
   "execution_count": 12,
   "id": "8e55bcf6-35c3-4946-b2c6-a5aa4ef7104e",
   "metadata": {},
   "outputs": [],
   "source": [
    "espece = []\n",
    "for i in range(len(data)):\n",
    "    espece.append(data[i][14])\n",
    "#espece"
   ]
  },
  {
   "cell_type": "code",
   "execution_count": 69,
   "id": "265a1f49-da06-4386-b772-342b45d380b4",
   "metadata": {},
   "outputs": [],
   "source": [
    "espece_unique = []\n",
    "for i in espece:\n",
    "    if i not in espece_unique:\n",
    "        espece_unique.append(i)\n",
    "#espece_unique"
   ]
  },
  {
   "cell_type": "markdown",
   "id": "44fa7b6b-86b2-4bc3-88fe-1991b756010f",
   "metadata": {},
   "source": [
    "espece_unique.pop(0)"
   ]
  },
  {
   "cell_type": "markdown",
   "id": "ab6bb2c5-215c-49c5-bc61-5270382837ab",
   "metadata": {},
   "source": [
    "3.En utilisant la structure de données Dict compter le nombre de représentants de\n",
    "chaque genre botanique"
   ]
  },
  {
   "cell_type": "code",
   "execution_count": 14,
   "id": "7c9fbba8-5893-452b-93fa-5eacb8868462",
   "metadata": {},
   "outputs": [],
   "source": [
    "dict_genre_botanique = {}\n",
    "for i in genre_botanique:\n",
    "    if i not in dict_genre_botanique:\n",
    "        dict_genre_botanique[i] = 1\n",
    "    else:\n",
    "        dict_genre_botanique[i] += 1\n",
    "#dict_genre_botanique"
   ]
  },
  {
   "cell_type": "markdown",
   "id": "b35b8a61-bd4d-456a-9d21-aff66c8ead7c",
   "metadata": {},
   "source": [
    "del dict_genre_botanique['GENRE_BOTA']\n",
    "del dict_genre_botanique['']"
   ]
  },
  {
   "cell_type": "markdown",
   "id": "fafe5e61-2c14-497c-adf7-9086741048ce",
   "metadata": {},
   "source": [
    "3.1Quel est le genre botanique le plus représenté ?"
   ]
  },
  {
   "cell_type": "code",
   "execution_count": 15,
   "id": "17fb90d9-ad57-43c9-b389-5f8cf4d9188c",
   "metadata": {},
   "outputs": [],
   "source": [
    "dict_genre_botanique = dict(sorted(dict_genre_botanique.items(), key=lambda x: x[1], reverse=True))\n",
    "#dict_genre_botanique"
   ]
  },
  {
   "cell_type": "markdown",
   "id": "71fbe35f-ce71-4fba-9eeb-59e710857b4d",
   "metadata": {},
   "source": [
    "Le genre botanique le plus représenté est le Acer avec 5276 arbre"
   ]
  },
  {
   "cell_type": "markdown",
   "id": "57720b0a-6bb2-43c6-8d8a-3329229656e5",
   "metadata": {},
   "source": [
    "3.2Listez tous les représentants uniques de leurs genre botanique"
   ]
  },
  {
   "cell_type": "code",
   "execution_count": 16,
   "id": "ebf4344e-c7a9-41ca-8915-50be7b2fba40",
   "metadata": {},
   "outputs": [],
   "source": [
    "arbre_genre_unique = []\n",
    "for i in dict_genre_botanique:\n",
    "    if dict_genre_botanique[i] == 1:\n",
    "        arbre_genre_unique.append(i)\n",
    "#arbre_genre_unique"
   ]
  },
  {
   "cell_type": "markdown",
   "id": "bed043e1-fdbe-41f9-b8a0-a48fd8b3b89c",
   "metadata": {},
   "source": [
    "3.3Classer tous les genres botaniques en fonction de leur nombre (ordre\n",
    "décroissant)"
   ]
  },
  {
   "cell_type": "code",
   "execution_count": 17,
   "id": "16bc18f5-9b6f-4346-a8aa-ca73533eba22",
   "metadata": {},
   "outputs": [],
   "source": [
    "dict_genre_botanique = dict(sorted(dict_genre_botanique.items(), key=lambda x: x[1], reverse=True))\n",
    "#dict_genre_botanique"
   ]
  },
  {
   "cell_type": "markdown",
   "id": "033696ab-c7df-42a1-8d23-4fe19c714c0e",
   "metadata": {},
   "source": [
    "3.4Quelle est la proportion du genre botanique le plus représenté parmi tous les\n",
    "genres ?"
   ]
  },
  {
   "cell_type": "code",
   "execution_count": 18,
   "id": "a22e909a-f725-4c82-9ae1-6dc32a7dd28d",
   "metadata": {},
   "outputs": [],
   "source": [
    "nombre_total_genre = 0\n",
    "for i in dict_genre_botanique.values():\n",
    "    nombre_total_genre += i"
   ]
  },
  {
   "cell_type": "code",
   "execution_count": 19,
   "id": "7a8eb4f3-0996-4ff2-b950-322448f3bdda",
   "metadata": {},
   "outputs": [
    {
     "data": {
      "text/plain": [
       "0.16886442196901805"
      ]
     },
     "execution_count": 19,
     "metadata": {},
     "output_type": "execute_result"
    }
   ],
   "source": [
    "5276 / nombre_total_genre"
   ]
  },
  {
   "cell_type": "markdown",
   "id": "7c93afb9-c56f-498b-ab36-dab838a321b8",
   "metadata": {},
   "source": [
    "La proportion du genre botanique le plus représenté est de 17%"
   ]
  },
  {
   "cell_type": "markdown",
   "id": "100e7726-7e04-401c-9a06-76367dbfe133",
   "metadata": {},
   "source": [
    "3.5Quelle est la proportion de chacun des genres botaniques par rapport au\n",
    "total ?"
   ]
  },
  {
   "cell_type": "code",
   "execution_count": 20,
   "id": "df1d1b95-d6ee-4159-9a1e-39dfbd916b5e",
   "metadata": {},
   "outputs": [],
   "source": [
    "pourcent_genre_botanique = dict_genre_botanique.copy()\n",
    "for i in pourcent_genre_botanique:\n",
    "    pourcent_genre_botanique[i] /= nombre_total_genre\n",
    "#pourcent_genre_botanique"
   ]
  },
  {
   "cell_type": "code",
   "execution_count": 21,
   "id": "90799ade-4d40-4af0-b75f-8727e9c20475",
   "metadata": {},
   "outputs": [
    {
     "data": {
      "text/plain": [
       "1.0"
      ]
     },
     "execution_count": 21,
     "metadata": {},
     "output_type": "execute_result"
    }
   ],
   "source": [
    "sum(pourcent_genre_botanique.values())"
   ]
  },
  {
   "cell_type": "markdown",
   "id": "6231d093-e1d5-40de-a9e3-c619704c8095",
   "metadata": {},
   "source": [
    "3.6Les objectifs de la Métro sont-ils respectés en termes de diversité ?"
   ]
  },
  {
   "cell_type": "markdown",
   "id": "e6d41766-3508-4fdf-a4a6-b622b10d7eb4",
   "metadata": {},
   "source": [
    "3.7Idem précédemment mais en comptant les espèces."
   ]
  },
  {
   "cell_type": "code",
   "execution_count": 22,
   "id": "a1d312a9-1712-47b5-849c-ab39ca9810db",
   "metadata": {},
   "outputs": [],
   "source": [
    "dict_espece = {}\n",
    "for i in espece:\n",
    "    if i not in dict_espece:\n",
    "        dict_espece[i] = 1\n",
    "    else:\n",
    "        dict_espece[i] += 1\n",
    "#dict_espece"
   ]
  },
  {
   "cell_type": "markdown",
   "id": "0130cb2b-2c82-43db-8853-ff7d209e92f7",
   "metadata": {},
   "source": [
    "del dict_espece['ESPECE']\n",
    "del dict_espece['']"
   ]
  },
  {
   "cell_type": "code",
   "execution_count": 23,
   "id": "60544bce-4415-49e4-bdcf-802567198b85",
   "metadata": {},
   "outputs": [],
   "source": [
    "nombre_total_espece = 0\n",
    "for i in dict_espece.values():\n",
    "    nombre_total_espece += i"
   ]
  },
  {
   "cell_type": "code",
   "execution_count": 24,
   "id": "51cee8fe-e324-4631-ade6-997bbaa4b532",
   "metadata": {},
   "outputs": [],
   "source": [
    "pourcent_espece = dict_espece.copy()\n",
    "for i in pourcent_espece:\n",
    "    pourcent_espece[i] /= nombre_total_espece\n",
    "#pourcent_espece"
   ]
  },
  {
   "cell_type": "code",
   "execution_count": 25,
   "id": "8c390260-0496-4311-bc03-79e80f1e2279",
   "metadata": {},
   "outputs": [
    {
     "data": {
      "text/plain": [
       "1.0"
      ]
     },
     "execution_count": 25,
     "metadata": {},
     "output_type": "execute_result"
    }
   ],
   "source": [
    "sum(pourcent_espece.values())"
   ]
  },
  {
   "cell_type": "code",
   "execution_count": 26,
   "id": "66689ef5-216c-47b0-8620-e965eb25f755",
   "metadata": {},
   "outputs": [],
   "source": [
    "pourcent_espece = dict(sorted(pourcent_espece.items(), key=lambda x: x[1], reverse=True))\n",
    "#pourcent_espece"
   ]
  },
  {
   "cell_type": "markdown",
   "id": "dd1583c8-9a28-4c20-a6c2-4b682b9a5b3d",
   "metadata": {},
   "source": [
    "Les objectifs de la Métro sont respectés en termes de diversité car il n'y a pas plus de 20% d'arbre du même genre botanique.\n",
    "Cependant pour ce qui est des especes certains arbres de la même espece sont representée a plus de 10%. Ce qui ne respecte pas les objectifs de la Métro."
   ]
  },
  {
   "cell_type": "markdown",
   "id": "6f48a8bd-ef59-4577-99a3-6ed366fcb91f",
   "metadata": {},
   "source": [
    "4.(plus dur) Comment la pratique de plantation a-t-elle évolué au cours du temps ?\n",
    "Diversifie-t-on plus maintenant qu’avant ?"
   ]
  },
  {
   "cell_type": "code",
   "execution_count": 74,
   "id": "7bf5b20e-9d40-4941-9c9a-afb00e8cd4fe",
   "metadata": {},
   "outputs": [
    {
     "data": {
      "text/plain": [
       "255"
      ]
     },
     "execution_count": 74,
     "metadata": {},
     "output_type": "execute_result"
    }
   ],
   "source": [
    "len(espece_unique)"
   ]
  },
  {
   "cell_type": "code",
   "execution_count": 75,
   "id": "f8ed82d7-5e93-41cd-b5ed-10dc6b1ebe61",
   "metadata": {},
   "outputs": [
    {
     "data": {
      "text/plain": [
       "112"
      ]
     },
     "execution_count": 75,
     "metadata": {},
     "output_type": "execute_result"
    }
   ],
   "source": [
    "len(genre_botanique_unique)"
   ]
  },
  {
   "cell_type": "code",
   "execution_count": 29,
   "id": "cb7d0da6-5cf5-4174-8f38-d3865fb0488f",
   "metadata": {},
   "outputs": [
    {
     "data": {
      "text/plain": [
       "['ï»¿ELEM_POINT_ID',\n",
       " 'CODE',\n",
       " 'NOM',\n",
       " 'GENRE',\n",
       " 'GENRE_DESC',\n",
       " 'CATEGORIE',\n",
       " 'CATEGORIE_DESC',\n",
       " 'SOUS_CATEGORIE',\n",
       " 'SOUS_CATEGORIE_DESC',\n",
       " 'CODE_PARENT',\n",
       " 'CODE_PARENT_DESC',\n",
       " 'ADR_SECTEUR',\n",
       " 'BIEN_REFERENCE',\n",
       " 'GENRE_BOTA',\n",
       " 'ESPECE',\n",
       " 'VARIETE',\n",
       " 'STADEDEDEVELOPPEMENT',\n",
       " 'EQUIPE',\n",
       " 'REMARQUES',\n",
       " 'ANNEEDEPLANTATION',\n",
       " 'RAISONDEPLANTATION',\n",
       " 'TRAITEMENTCHENILLES',\n",
       " 'COURRIER',\n",
       " 'IDENTIFIANTPLU',\n",
       " 'TYPEIMPLANTATIONPLU',\n",
       " 'INTITULEPROTECTIONPLU',\n",
       " 'ANNEEABATTAGE',\n",
       " 'ESSOUCHEMENT',\n",
       " 'DIAMETREARBRE',\n",
       " 'CAUSEABATTAGE',\n",
       " 'COLLECTIVITE',\n",
       " 'GeoJSON']"
      ]
     },
     "execution_count": 29,
     "metadata": {},
     "output_type": "execute_result"
    }
   ],
   "source": [
    "data[0]"
   ]
  },
  {
   "cell_type": "code",
   "execution_count": 30,
   "id": "2898a0e0-23c4-4c05-8994-3104bb3ea49f",
   "metadata": {},
   "outputs": [
    {
     "data": {
      "text/plain": [
       "19"
      ]
     },
     "execution_count": 30,
     "metadata": {},
     "output_type": "execute_result"
    }
   ],
   "source": [
    "data[0].index('ANNEEDEPLANTATION')"
   ]
  },
  {
   "cell_type": "code",
   "execution_count": 31,
   "id": "540110f0-980f-4827-aa16-3e6961c9daf1",
   "metadata": {},
   "outputs": [
    {
     "data": {
      "text/plain": [
       "14"
      ]
     },
     "execution_count": 31,
     "metadata": {},
     "output_type": "execute_result"
    }
   ],
   "source": [
    "data[0].index('ESPECE')"
   ]
  },
  {
   "cell_type": "code",
   "execution_count": 32,
   "id": "b8887b79-d3fb-48ef-a290-319d628ab55c",
   "metadata": {},
   "outputs": [],
   "source": [
    "annee_espece = []\n",
    "for i in range(len(data)):\n",
    "    annee_espece.append((data[i][19], data[i][14]))\n",
    "#annee_espece"
   ]
  },
  {
   "cell_type": "code",
   "execution_count": 49,
   "id": "5e10136d-3d97-4336-abe5-531b642d5c9c",
   "metadata": {},
   "outputs": [],
   "source": [
    "annee_espece = sorted(annee_espece, key=lambda x: x[0])\n",
    "#annee_espece"
   ]
  },
  {
   "cell_type": "code",
   "execution_count": 57,
   "id": "95023f61-97f3-4f80-916d-f36dd76e0431",
   "metadata": {},
   "outputs": [],
   "source": [
    "for i in annee_espece:\n",
    "    if i == ('', ''):\n",
    "        annee_espece.remove(i)\n",
    "#annee_espece"
   ]
  },
  {
   "cell_type": "code",
   "execution_count": 76,
   "id": "404cef89-e149-462d-bd59-d17ada71b5e9",
   "metadata": {},
   "outputs": [
    {
     "data": {
      "text/plain": [
       "{'1950': 8,\n",
       " '1955': 7,\n",
       " '1960': 74,\n",
       " '1961': 2,\n",
       " '1964': 2,\n",
       " '1965': 56,\n",
       " '1966': 25,\n",
       " '1967': 20,\n",
       " '1968': 21,\n",
       " '1969': 37,\n",
       " '1970': 71,\n",
       " '1971': 22,\n",
       " '1972': 31,\n",
       " '1973': 10,\n",
       " '1974': 15,\n",
       " '1975': 87,\n",
       " '1976': 51,\n",
       " '1977': 44,\n",
       " '1978': 40,\n",
       " '1979': 34,\n",
       " '1980': 68,\n",
       " '1981': 49,\n",
       " '1982': 50,\n",
       " '1983': 50,\n",
       " '1984': 37,\n",
       " '1985': 54,\n",
       " '1986': 30,\n",
       " '1987': 42,\n",
       " '1988': 22,\n",
       " '1989': 35,\n",
       " '1990': 33,\n",
       " '1991': 26,\n",
       " '1992': 33,\n",
       " '1993': 36,\n",
       " '1994': 39,\n",
       " '1995': 49,\n",
       " '1996': 49,\n",
       " '1997': 21,\n",
       " '1998': 22,\n",
       " '1999': 56,\n",
       " '2000': 43,\n",
       " '2001': 47,\n",
       " '2002': 32,\n",
       " '2003': 47,\n",
       " '2004': 49,\n",
       " '2005': 41,\n",
       " '2006': 52,\n",
       " '2007': 29,\n",
       " '2008': 38,\n",
       " '2009': 76,\n",
       " '2010': 56,\n",
       " '2011': 91,\n",
       " '2012': 64,\n",
       " '2013': 61,\n",
       " '2014': 106,\n",
       " '2015': 112,\n",
       " '2016': 64,\n",
       " '2017': 44}"
      ]
     },
     "execution_count": 76,
     "metadata": {},
     "output_type": "execute_result"
    }
   ],
   "source": [
    "dict_annee_espece = {}\n",
    "liste_espece = []\n",
    "for i in range(len(annee_espece)):\n",
    "    a = annee_espece[i][0]\n",
    "    e = annee_espece[i][1]\n",
    "    if a not in dict_annee_espece:\n",
    "        dict_annee_espece[a] = 1\n",
    "        liste_espece = []\n",
    "    elif e not in liste_espece:\n",
    "        dict_annee_espece[a] += 1\n",
    "        liste_espece.append(e)\n",
    "dict_annee_espece"
   ]
  },
  {
   "cell_type": "code",
   "execution_count": 85,
   "id": "8a9d5254-b7ba-4ad0-82cc-b017eb1673ca",
   "metadata": {},
   "outputs": [
    {
     "data": {
      "text/plain": [
       "43.275862068965516"
      ]
     },
     "execution_count": 85,
     "metadata": {},
     "output_type": "execute_result"
    }
   ],
   "source": [
    "sum(dict_annee_espece.values()) / len(dict_annee_espece)"
   ]
  },
  {
   "cell_type": "markdown",
   "id": "3dc8ab92-acb3-4920-b5f1-9a4680f516d4",
   "metadata": {},
   "source": [
    "On peut observer que la moyenne de plantations d'especes différentes par année est d'environ 43. Avant 1975 cette moyenne n'etait que très peu respecter. Un pic a eu lieu entre 1975 et 1985. Cependant depuis les 9 dernières année de ce dataset nous pouvons observer un nette hausse au dessus de la moyenne. Avec un pic a 106 et 112 espece différentes en 2014 et 2015. Ce qui signifie que la diversité est plus abondante aujourd'hui, qu'il y a 10 ans ou 70 ans. Malgré ça cette diversité de plantation cette varie énormement au cours du temps."
   ]
  },
  {
   "cell_type": "code",
   "execution_count": null,
   "id": "500114d5-00d9-4694-82dd-597fc704947a",
   "metadata": {},
   "outputs": [],
   "source": []
  }
 ],
 "metadata": {
  "kernelspec": {
   "display_name": "Python 3 (ipykernel)",
   "language": "python",
   "name": "python3"
  },
  "language_info": {
   "codemirror_mode": {
    "name": "ipython",
    "version": 3
   },
   "file_extension": ".py",
   "mimetype": "text/x-python",
   "name": "python",
   "nbconvert_exporter": "python",
   "pygments_lexer": "ipython3",
   "version": "3.13.5"
  }
 },
 "nbformat": 4,
 "nbformat_minor": 5
}
