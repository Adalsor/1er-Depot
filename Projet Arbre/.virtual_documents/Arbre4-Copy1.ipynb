import pandas as pd
import folium
import json
import geopy
from geopy.distance import distance


df = pd.read_csv("trees.csv")


df[:1]





df['coords'] = df['GeoJSON'].apply(lambda x: json.loads(x)['coordinates'])


df[['longitude', 'latitude']] = pd.DataFrame(df['coords'].tolist(), index=df.index)


my_columns = ['longitude', 'latitude']


data = df[my_columns]


m = folium.Map(location=[df['latitude'].mean(), df['longitude'].mean()], zoom_start=12)


for c, r in data.iterrows():
    folium.CircleMarker(
        location = [r['latitude'], r['longitude']],
        radius = 5,
        color = 'red'
    ).add_to(m)


m








arbre1 = float(data[:1].get('longitude')), float(data[:1].get('latitude'))
arbre1


arbre2 = float(data[1:2].get('longitude')), float(data[1:2].get('latitude'))
arbre2


distance(arbre1, arbre2).km








from math import radians, cos, sin, asin, sqrt

def haversine(lon1, lat1, lon2, lat2):
    """
    Calculate the great circle distance in kilometers between two points 
    on the earth (specified in decimal degrees)
    """
    # convert decimal degrees to radians 
    lon1, lat1, lon2, lat2 = map(radians, [lon1, lat1, lon2, lat2])

    # haversine formula 
    dlon = lon2 - lon1 
    dlat = lat2 - lat1 
    a = sin(dlat/2)**2 + cos(lat1) * cos(lat2) * sin(dlon/2)**2
    c = 2 * asin(sqrt(a)) 
    r = 6371 # Radius of earth in kilometers. Use 3956 for miles. Determines return value units.
    return c * r


haversine(5.76034690089422, 45.1543159441061, 5.75982646464411, 45.154046459904)








data.reset_index(inplace=True)


data[:2]


data[data['longitude'] == '5.759826'].index


maison = [45.533329, 5.58333]
liste = []
for c, r in data.iterrows():
    arbre = r['longitude'], r['latitude']
    dist = distance(maison, arbre).km
    liste.append({int(c): float(dist)})


liste = sorted(liste, key=lambda x: list(x.values())[0])
liste[:10]








liste_dist = []
arbre = float(data['longitude'][0]), float(data['latitude'][0])
for c, r in data.iterrows():
    arbre2 = r['longitude'], r['latitude']
    dist = distance(arbre, arbre2).km
    liste_dist.append(dist)


liste_dist.pop(0)


sum(liste_dist) / len(liste_dist)








liste_tous = []
#for i, r in data.iterrows():
    arbre1 = float(r['longitude']), float(r['latitude'])
    liste_tous2 = []
    for I, R in data.iterrows():
        arbre2 = float(R['longitude']), float(R['latitude'])
        if arbre1 != arbre2:
            dist = distance(arbre1, arbre2).km
            liste_tous2.append(dist)
    liste_tous.append({int(i): sum(liste_tous2) / len(liste_tous2)})



