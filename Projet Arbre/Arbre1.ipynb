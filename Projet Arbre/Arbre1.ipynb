{
 "cells": [
  {
   "cell_type": "code",
   "execution_count": 1,
   "id": "ee62df82-1c89-4601-bd0a-70ef23a9f48c",
   "metadata": {},
   "outputs": [],
   "source": [
    "import csv"
   ]
  },
  {
   "cell_type": "markdown",
   "id": "56d277bb-e1f4-4777-ab40-03097693574e",
   "metadata": {},
   "source": [
    "1.Extraire l’ensemble des lignes (rows) et stocker ces informations dans une\n",
    "variable de type List"
   ]
  },
  {
   "cell_type": "code",
   "execution_count": 2,
   "id": "93ca3860-0582-408b-a56d-63b1b611e9b5",
   "metadata": {},
   "outputs": [],
   "source": [
    "with open(\"trees.csv\", newline='') as f:\n",
    "    df = csv.reader(f)\n",
    "    data = list(df)"
   ]
  },
  {
   "cell_type": "markdown",
   "id": "ed537a04-e143-44b6-98f2-7f99eb979cb5",
   "metadata": {},
   "source": [
    "2.Afficher les deux premières lignes de ce csv. Que représentent elles ?"
   ]
  },
  {
   "cell_type": "code",
   "execution_count": 3,
   "id": "d27607c0-0740-4922-b44e-a6f9c0321a95",
   "metadata": {},
   "outputs": [
    {
     "name": "stdout",
     "output_type": "stream",
     "text": [
      "['ï»¿ELEM_POINT_ID', 'CODE', 'NOM', 'GENRE', 'GENRE_DESC', 'CATEGORIE', 'CATEGORIE_DESC', 'SOUS_CATEGORIE', 'SOUS_CATEGORIE_DESC', 'CODE_PARENT', 'CODE_PARENT_DESC', 'ADR_SECTEUR', 'BIEN_REFERENCE', 'GENRE_BOTA', 'ESPECE', 'VARIETE', 'STADEDEDEVELOPPEMENT', 'EQUIPE', 'REMARQUES', 'ANNEEDEPLANTATION', 'RAISONDEPLANTATION', 'TRAITEMENTCHENILLES', 'COURRIER', 'IDENTIFIANTPLU', 'TYPEIMPLANTATIONPLU', 'INTITULEPROTECTIONPLU', 'ANNEEABATTAGE', 'ESSOUCHEMENT', 'DIAMETREARBRE', 'CAUSEABATTAGE', 'COLLECTIVITE', 'GeoJSON']\n",
      "['37993', 'ESP37969', 'ESP37969', 'VEG', 'VEGETATION', 'ESP01', 'Arbre', 'ESP065', \"Arbre d'enceintes fermÃ©es\", 'ESP37898', 'Maison des Collines Jard Poisat', '6', 'AR37969', '', '', '', '', '', '', '', '', '', '', '', '', '', '', '', '', '', '', '{\"type\":\"Point\",\"coordinates\":[5.76034690089422,45.1543159441061]}']\n"
     ]
    }
   ],
   "source": [
    "for i in range(2):\n",
    "    print(data[i])"
   ]
  },
  {
   "cell_type": "markdown",
   "id": "9d86d299-aa4b-4baf-918b-14384933de3a",
   "metadata": {},
   "source": [
    "Les 2 premières lignes decrivent les points de caracteristiques de l'arbre et les caracteristiques en question"
   ]
  },
  {
   "cell_type": "markdown",
   "id": "0eb77b5a-52b5-49cb-8bc4-faf8a295909e",
   "metadata": {},
   "source": [
    "3.Afficher la 2ème colonne de chacune de ces deux lignes"
   ]
  },
  {
   "cell_type": "code",
   "execution_count": 4,
   "id": "4677cbee-4c5e-4539-b9b5-9739ed7753a3",
   "metadata": {},
   "outputs": [
    {
     "name": "stdout",
     "output_type": "stream",
     "text": [
      "CODE\n",
      "ESP37969\n"
     ]
    }
   ],
   "source": [
    "for i in range(2):\n",
    "    print(data[i][1])"
   ]
  },
  {
   "cell_type": "markdown",
   "id": "fe8bd4e7-ca3c-4f79-8b2e-69d7f8b723b7",
   "metadata": {},
   "source": [
    "4.Extraire l’information concernant l’année de plantation pour l’ensemble des\n",
    "lignes (rows) et stocker ces informations dans une autre variable de type List"
   ]
  },
  {
   "cell_type": "code",
   "execution_count": 5,
   "id": "30c51f38-e42d-4897-98ff-041c80800ada",
   "metadata": {},
   "outputs": [
    {
     "data": {
      "text/plain": [
       "19"
      ]
     },
     "execution_count": 5,
     "metadata": {},
     "output_type": "execute_result"
    }
   ],
   "source": [
    "data[0].index('ANNEEDEPLANTATION')"
   ]
  },
  {
   "cell_type": "code",
   "execution_count": 6,
   "id": "18cfb2da-171b-492e-bc43-cef64e2ab75f",
   "metadata": {},
   "outputs": [],
   "source": [
    "annee_plantation = ''\n",
    "for i in range(len(data)):\n",
    "    annee_plantation += data[i][19] + \"/\""
   ]
  },
  {
   "cell_type": "code",
   "execution_count": 7,
   "id": "07e87fc1-a339-47fb-9020-a1d1304a8e92",
   "metadata": {},
   "outputs": [],
   "source": [
    "annee_plantation = annee_plantation.split(\"/\")\n",
    "#annee_plantation"
   ]
  },
  {
   "cell_type": "markdown",
   "id": "922d5480-2aec-433b-a861-69a94fe16657",
   "metadata": {},
   "source": [
    "5.Afficher les 50 premières lignes et les 50 dernières lignes de cette liste."
   ]
  },
  {
   "cell_type": "code",
   "execution_count": 8,
   "id": "5d855ff8-7cee-4f48-85c6-84978c3240da",
   "metadata": {},
   "outputs": [
    {
     "data": {
      "text/plain": [
       "['ANNEEDEPLANTATION',\n",
       " '',\n",
       " '',\n",
       " '',\n",
       " '',\n",
       " '',\n",
       " '',\n",
       " '',\n",
       " '',\n",
       " '',\n",
       " '',\n",
       " '',\n",
       " '',\n",
       " '',\n",
       " '2017',\n",
       " '2017',\n",
       " '2017',\n",
       " '2017',\n",
       " '2017',\n",
       " '2017',\n",
       " '2017',\n",
       " '2017',\n",
       " '2017',\n",
       " '2017',\n",
       " '2017',\n",
       " '2017',\n",
       " '2017',\n",
       " '2017',\n",
       " '2017',\n",
       " '2017',\n",
       " '2017',\n",
       " '2017',\n",
       " '2017',\n",
       " '2017',\n",
       " '2017',\n",
       " '2017',\n",
       " '2017',\n",
       " '2017',\n",
       " '2017',\n",
       " '2017',\n",
       " '2017',\n",
       " '2017',\n",
       " '2017',\n",
       " '2017',\n",
       " '2017',\n",
       " '2017',\n",
       " '2017',\n",
       " '2017',\n",
       " '2017',\n",
       " '2017']"
      ]
     },
     "execution_count": 8,
     "metadata": {},
     "output_type": "execute_result"
    }
   ],
   "source": [
    "annee_plantation[0:50]"
   ]
  },
  {
   "cell_type": "code",
   "execution_count": 9,
   "id": "f8719ea4-1712-41c4-905c-29f762bd9150",
   "metadata": {},
   "outputs": [
    {
     "data": {
      "text/plain": [
       "['',\n",
       " '2001',\n",
       " '2001',\n",
       " '2001',\n",
       " '2001',\n",
       " '2001',\n",
       " '2001',\n",
       " '2001',\n",
       " '2001',\n",
       " '2001',\n",
       " '2001',\n",
       " '2001',\n",
       " '2001',\n",
       " '2001',\n",
       " '2001',\n",
       " '2001',\n",
       " '2001',\n",
       " '2001',\n",
       " '2001',\n",
       " '2001',\n",
       " '2001',\n",
       " '2001',\n",
       " '2001',\n",
       " '2001',\n",
       " '2001',\n",
       " '2001',\n",
       " '2001',\n",
       " '2001',\n",
       " '2017',\n",
       " '2017',\n",
       " '1975',\n",
       " '1975',\n",
       " '1975',\n",
       " '1975',\n",
       " '1975',\n",
       " '1975',\n",
       " '1975',\n",
       " '1975',\n",
       " '1975',\n",
       " '1975',\n",
       " '1975',\n",
       " '1975',\n",
       " '1975',\n",
       " '1975',\n",
       " '1975',\n",
       " '1975',\n",
       " '1975',\n",
       " '1975',\n",
       " '1975']"
      ]
     },
     "execution_count": 9,
     "metadata": {},
     "output_type": "execute_result"
    }
   ],
   "source": [
    "annee_plantation[:-50:-1]"
   ]
  },
  {
   "cell_type": "markdown",
   "id": "1ecdd264-7ff1-4724-ae7d-84c3961e6c48",
   "metadata": {},
   "source": [
    "6.Combien d’arbres sont recensés dans ce jeu de données ?"
   ]
  },
  {
   "cell_type": "code",
   "execution_count": 10,
   "id": "54367e77-0233-435e-80fe-56b5e7bfd0fb",
   "metadata": {},
   "outputs": [
    {
     "data": {
      "text/plain": [
       "31243"
      ]
     },
     "execution_count": 10,
     "metadata": {},
     "output_type": "execute_result"
    }
   ],
   "source": [
    "len(data) - 1"
   ]
  },
  {
   "cell_type": "markdown",
   "id": "0ee19a32-bbf7-45ab-9491-f4aa85378cfe",
   "metadata": {},
   "source": [
    "7.Pour combien d’arbres manque-t-il l’information concernant la date de\n",
    "plantation ? (Vous pouvez essayer de le faire d’au moins deux manières\n",
    "différentes.)"
   ]
  },
  {
   "cell_type": "code",
   "execution_count": 11,
   "id": "4b1ed332-d9c8-4bf4-879d-627f8804ece3",
   "metadata": {},
   "outputs": [
    {
     "data": {
      "text/plain": [
       "443"
      ]
     },
     "execution_count": 11,
     "metadata": {},
     "output_type": "execute_result"
    }
   ],
   "source": [
    "a = 0\n",
    "for i in annee_plantation:\n",
    "    if i == '':\n",
    "        a += 1\n",
    "a"
   ]
  },
  {
   "cell_type": "code",
   "execution_count": 12,
   "id": "b342de8f-7d01-4428-b88b-788a73f99950",
   "metadata": {},
   "outputs": [
    {
     "data": {
      "text/plain": [
       "443"
      ]
     },
     "execution_count": 12,
     "metadata": {},
     "output_type": "execute_result"
    }
   ],
   "source": [
    "annee_plantation.count('')"
   ]
  },
  {
   "cell_type": "markdown",
   "id": "bdeaca2d-ae3d-4087-a8c1-121e35b37a01",
   "metadata": {},
   "source": [
    "8.Combien d’arbres ont été plantés l’année de votre naissance ?"
   ]
  },
  {
   "cell_type": "code",
   "execution_count": 13,
   "id": "38328a2a-f22a-41fc-bac1-f5cb961e3db2",
   "metadata": {},
   "outputs": [
    {
     "data": {
      "text/plain": [
       "1626"
      ]
     },
     "execution_count": 13,
     "metadata": {},
     "output_type": "execute_result"
    }
   ],
   "source": [
    "annee_plantation.count('2001')"
   ]
  },
  {
   "cell_type": "markdown",
   "id": "040bb4c1-ac80-49f6-af72-a84f81fa028d",
   "metadata": {},
   "source": [
    "9.Quelle est la plus ancienne année de plantation recensée dans ce dataset ?\n",
    "La plus récente ? "
   ]
  },
  {
   "cell_type": "code",
   "execution_count": 14,
   "id": "9acb0f07-5656-434e-91b1-e73252c71607",
   "metadata": {},
   "outputs": [
    {
     "data": {
      "text/plain": [
       "''"
      ]
     },
     "execution_count": 14,
     "metadata": {},
     "output_type": "execute_result"
    }
   ],
   "source": [
    "min(annee_plantation)"
   ]
  },
  {
   "cell_type": "code",
   "execution_count": 15,
   "id": "0f3937b9-f470-440f-b486-c908874fe900",
   "metadata": {},
   "outputs": [
    {
     "data": {
      "text/plain": [
       "'2017'"
      ]
     },
     "execution_count": 15,
     "metadata": {},
     "output_type": "execute_result"
    }
   ],
   "source": [
    "max(annee_plantation[1:])"
   ]
  },
  {
   "cell_type": "code",
   "execution_count": 16,
   "id": "addca46a-3cc8-4788-92f5-02f23806f480",
   "metadata": {},
   "outputs": [
    {
     "data": {
      "text/plain": [
       "1950"
      ]
     },
     "execution_count": 16,
     "metadata": {},
     "output_type": "execute_result"
    }
   ],
   "source": [
    "b = 2025\n",
    "for i in annee_plantation[1:]:\n",
    "    if i != '':\n",
    "        if int(i) < b:\n",
    "            b = int(i)\n",
    "b"
   ]
  },
  {
   "cell_type": "markdown",
   "id": "0fb15531-d6c5-43d8-853b-548bd334a21b",
   "metadata": {},
   "source": [
    "10.Combien d’arbres ont été plantés année par année (ex : 1987 : 771, 1988 :\n",
    "266, etc…) ?"
   ]
  },
  {
   "cell_type": "code",
   "execution_count": 17,
   "id": "91d28f0c-6030-4b9f-9164-0a9fa6a17049",
   "metadata": {},
   "outputs": [],
   "source": [
    "annee_plantation_unique = set(annee_plantation)\n",
    "annee_plantation_unique.remove('')\n",
    "annee_plantation_unique.remove('ANNEEDEPLANTATION')\n",
    "annee_plantation_unique = list(annee_plantation_unique)\n",
    "#annee_plantation_unique"
   ]
  },
  {
   "cell_type": "code",
   "execution_count": 18,
   "id": "2dbffaf1-7c8f-4041-acce-d8a9833e257f",
   "metadata": {},
   "outputs": [
    {
     "ename": "_IncompleteInputError",
     "evalue": "incomplete input (2505633579.py, line 2)",
     "output_type": "error",
     "traceback": [
      "\u001b[1;36m  Cell \u001b[1;32mIn[18], line 2\u001b[1;36m\u001b[0m\n\u001b[1;33m    #print(i,\":\",annee_plantation.count(i))\u001b[0m\n\u001b[1;37m                                           ^\u001b[0m\n\u001b[1;31m_IncompleteInputError\u001b[0m\u001b[1;31m:\u001b[0m incomplete input\n"
     ]
    }
   ],
   "source": [
    "for i in annee_plantation_unique:\n",
    "    #print(i,\":\",annee_plantation.count(i))"
   ]
  },
  {
   "cell_type": "code",
   "execution_count": 19,
   "id": "d064d0de-16d9-46d4-b2d3-4a34ce04affd",
   "metadata": {},
   "outputs": [],
   "source": [
    "nombre_plantation_annee = {}\n",
    "for i in annee_plantation_unique:\n",
    "    nombre_plantation_annee[i] = annee_plantation.count(i)\n",
    "#nombre_plantation_annee"
   ]
  },
  {
   "cell_type": "code",
   "execution_count": 20,
   "id": "6908121c-cc6d-4806-9279-c56fe06f704f",
   "metadata": {},
   "outputs": [
    {
     "data": {
      "text/plain": [
       "{'1950': 422,\n",
       " '1955': 66,\n",
       " '1960': 745,\n",
       " '1961': 27,\n",
       " '1964': 7,\n",
       " '1965': 760,\n",
       " '1966': 95,\n",
       " '1967': 57,\n",
       " '1968': 116,\n",
       " '1969': 350,\n",
       " '1970': 1444,\n",
       " '1971': 75,\n",
       " '1972': 364,\n",
       " '1973': 34,\n",
       " '1974': 350,\n",
       " '1975': 3922,\n",
       " '1976': 972,\n",
       " '1977': 616,\n",
       " '1978': 912,\n",
       " '1979': 361,\n",
       " '1980': 1528,\n",
       " '1981': 644,\n",
       " '1982': 448,\n",
       " '1983': 333,\n",
       " '1984': 666,\n",
       " '1985': 990,\n",
       " '1986': 238,\n",
       " '1987': 771,\n",
       " '1988': 266,\n",
       " '1989': 307,\n",
       " '1990': 433,\n",
       " '1991': 146,\n",
       " '1992': 226,\n",
       " '1993': 161,\n",
       " '1994': 288,\n",
       " '1995': 781,\n",
       " '1996': 385,\n",
       " '1997': 238,\n",
       " '1998': 220,\n",
       " '1999': 603,\n",
       " '2000': 461,\n",
       " '2001': 1626,\n",
       " '2002': 341,\n",
       " '2003': 352,\n",
       " '2004': 352,\n",
       " '2005': 450,\n",
       " '2006': 616,\n",
       " '2007': 155,\n",
       " '2008': 219,\n",
       " '2009': 696,\n",
       " '2010': 467,\n",
       " '2011': 530,\n",
       " '2012': 338,\n",
       " '2013': 335,\n",
       " '2014': 881,\n",
       " '2015': 996,\n",
       " '2016': 347,\n",
       " '2017': 272}"
      ]
     },
     "execution_count": 20,
     "metadata": {},
     "output_type": "execute_result"
    }
   ],
   "source": [
    "nombre_plantation_annee = dict(sorted(nombre_plantation_annee.items()), key=lambda item: item[0])\n",
    "del nombre_plantation_annee['key']\n",
    "nombre_plantation_annee"
   ]
  },
  {
   "cell_type": "markdown",
   "id": "6c509b73-89b3-4fd6-ae20-12328ea27351",
   "metadata": {},
   "source": [
    "11.Combien d’arbres ont été plantés en moyenne chaque année ?"
   ]
  },
  {
   "cell_type": "code",
   "execution_count": 21,
   "id": "feef9210-7b3d-48ae-bf34-d515f83a27e1",
   "metadata": {},
   "outputs": [
    {
     "data": {
      "text/plain": [
       "531.051724137931"
      ]
     },
     "execution_count": 21,
     "metadata": {},
     "output_type": "execute_result"
    }
   ],
   "source": [
    "sum(nombre_plantation_annee.values()) / len(nombre_plantation_annee)"
   ]
  },
  {
   "cell_type": "markdown",
   "id": "45e388eb-6d23-41fb-8f24-617e05b7019c",
   "metadata": {},
   "source": [
    "12.Stocker conjointement l’année de plantation et le nombre d’arbres plantés\n",
    "dans un tuple. Les tuples seront stockés dans une liste (ex : [ (‘1987’, 771),\n",
    "(‘1988’, 266), ….. ] )"
   ]
  },
  {
   "cell_type": "code",
   "execution_count": 22,
   "id": "ba978985-cb5b-4cb7-b822-783a7315612c",
   "metadata": {},
   "outputs": [
    {
     "data": {
      "text/plain": [
       "[('1950', 422),\n",
       " ('1955', 66),\n",
       " ('1960', 745),\n",
       " ('1961', 27),\n",
       " ('1964', 7),\n",
       " ('1965', 760),\n",
       " ('1966', 95),\n",
       " ('1967', 57),\n",
       " ('1968', 116),\n",
       " ('1969', 350),\n",
       " ('1970', 1444),\n",
       " ('1971', 75),\n",
       " ('1972', 364),\n",
       " ('1973', 34),\n",
       " ('1974', 350),\n",
       " ('1975', 3922),\n",
       " ('1976', 972),\n",
       " ('1977', 616),\n",
       " ('1978', 912),\n",
       " ('1979', 361),\n",
       " ('1980', 1528),\n",
       " ('1981', 644),\n",
       " ('1982', 448),\n",
       " ('1983', 333),\n",
       " ('1984', 666),\n",
       " ('1985', 990),\n",
       " ('1986', 238),\n",
       " ('1987', 771),\n",
       " ('1988', 266),\n",
       " ('1989', 307),\n",
       " ('1990', 433),\n",
       " ('1991', 146),\n",
       " ('1992', 226),\n",
       " ('1993', 161),\n",
       " ('1994', 288),\n",
       " ('1995', 781),\n",
       " ('1996', 385),\n",
       " ('1997', 238),\n",
       " ('1998', 220),\n",
       " ('1999', 603),\n",
       " ('2000', 461),\n",
       " ('2001', 1626),\n",
       " ('2002', 341),\n",
       " ('2003', 352),\n",
       " ('2004', 352),\n",
       " ('2005', 450),\n",
       " ('2006', 616),\n",
       " ('2007', 155),\n",
       " ('2008', 219),\n",
       " ('2009', 696),\n",
       " ('2010', 467),\n",
       " ('2011', 530),\n",
       " ('2012', 338),\n",
       " ('2013', 335),\n",
       " ('2014', 881),\n",
       " ('2015', 996),\n",
       " ('2016', 347),\n",
       " ('2017', 272)]"
      ]
     },
     "execution_count": 22,
     "metadata": {},
     "output_type": "execute_result"
    }
   ],
   "source": [
    "liste_tuples = []\n",
    "for i in nombre_plantation_annee.items():\n",
    "    liste_tuples.append(i)\n",
    "liste_tuples"
   ]
  },
  {
   "cell_type": "markdown",
   "id": "d1836c1a-a641-46e3-bfbd-7ca4e93a50ec",
   "metadata": {},
   "source": [
    "13.Quel Maire a planté le plus d’arbres à Grenoble ?"
   ]
  },
  {
   "cell_type": "code",
   "execution_count": 23,
   "id": "f80f4c1f-725c-4a51-8b05-a910c1b87d63",
   "metadata": {},
   "outputs": [
    {
     "data": {
      "text/plain": [
       "30"
      ]
     },
     "execution_count": 23,
     "metadata": {},
     "output_type": "execute_result"
    }
   ],
   "source": [
    "data[0].index(\"COLLECTIVITE\")"
   ]
  },
  {
   "cell_type": "code",
   "execution_count": 24,
   "id": "00fb14ac-7ba8-4575-a0a8-a459c9864ffc",
   "metadata": {},
   "outputs": [],
   "source": [
    "collectivite = []\n",
    "for i in range(len(data)):\n",
    "    collectivite.append(data[i][30])"
   ]
  },
  {
   "cell_type": "code",
   "execution_count": 25,
   "id": "65f2b48c-69f2-4dba-8483-2e2d07fbdb05",
   "metadata": {},
   "outputs": [
    {
     "data": {
      "text/plain": [
       "['Grenoble Alpes MÃ©tropole', 'Ville de Grenoble']"
      ]
     },
     "execution_count": 25,
     "metadata": {},
     "output_type": "execute_result"
    }
   ],
   "source": [
    "collectivite_unique = set(collectivite)\n",
    "collectivite_unique.remove(\"\")\n",
    "collectivite_unique.remove(\"COLLECTIVITE\")\n",
    "collectivite_unique = list(collectivite_unique)\n",
    "collectivite_unique"
   ]
  },
  {
   "cell_type": "code",
   "execution_count": 26,
   "id": "a165de55-41e5-48dd-9be8-6922f12f05c9",
   "metadata": {},
   "outputs": [
    {
     "data": {
      "text/plain": [
       "15177"
      ]
     },
     "execution_count": 26,
     "metadata": {},
     "output_type": "execute_result"
    }
   ],
   "source": [
    "collectivite.count('Grenoble Alpes MÃ©tropole')"
   ]
  },
  {
   "cell_type": "code",
   "execution_count": 27,
   "id": "4e6e9cb3-4dd1-4392-ad5d-cc49717e4394",
   "metadata": {},
   "outputs": [
    {
     "data": {
      "text/plain": [
       "15627"
      ]
     },
     "execution_count": 27,
     "metadata": {},
     "output_type": "execute_result"
    }
   ],
   "source": [
    "collectivite.count('Ville de Grenoble')"
   ]
  },
  {
   "cell_type": "markdown",
   "id": "68303290-6251-4456-a773-295c2398eb59",
   "metadata": {},
   "source": [
    "C'est le Maire de la Ville de Grenoble qui a planté le plus d'arbre."
   ]
  },
  {
   "cell_type": "markdown",
   "id": "12f9e30e-724f-4269-8d9b-75931a71faab",
   "metadata": {},
   "source": [
    "14.Récupérez maintenant l’information concernant le genre botanique et la\n",
    "stocker conjointement avec l’année de plantation dans un tuple. Les tuples\n",
    "seront stockés dans une liste (ex : [ (‘1987’, ‘Acer), (‘1988’, ‘Acerifolia), ….. ] )"
   ]
  },
  {
   "cell_type": "code",
   "execution_count": 28,
   "id": "1eaeb80d-d10d-4638-b2d1-4d087709c2c0",
   "metadata": {},
   "outputs": [
    {
     "data": {
      "text/plain": [
       "13"
      ]
     },
     "execution_count": 28,
     "metadata": {},
     "output_type": "execute_result"
    }
   ],
   "source": [
    "data[0].index(\"GENRE_BOTA\")"
   ]
  },
  {
   "cell_type": "code",
   "execution_count": 29,
   "id": "eb52a3dd-2de3-4dcd-aacf-61014a95b58b",
   "metadata": {},
   "outputs": [],
   "source": [
    "genre_botanique = []\n",
    "for i in range(len(data)):\n",
    "    genre_botanique.append(data[i][13])"
   ]
  },
  {
   "cell_type": "code",
   "execution_count": 30,
   "id": "f4735102-cf47-44a6-b2ca-2bfd978d991d",
   "metadata": {},
   "outputs": [],
   "source": [
    "genre_botanique_tuples = []\n",
    "for i in range(len(data)):\n",
    "    genre_botanique_tuples.append((annee_plantation[i],genre_botanique[i]))\n",
    "#genre_botanique_tuples"
   ]
  },
  {
   "cell_type": "markdown",
   "id": "183c48bc-4053-46a2-931e-d82009a2a78e",
   "metadata": {},
   "source": [
    "15.Pour combien d'arbres manque-t-il l’information concernant le genre\n",
    "botanique ?"
   ]
  },
  {
   "cell_type": "code",
   "execution_count": 31,
   "id": "fbc6e8c0-ffce-456e-aa8b-e715a710c33f",
   "metadata": {},
   "outputs": [
    {
     "data": {
      "text/plain": [
       "515"
      ]
     },
     "execution_count": 31,
     "metadata": {},
     "output_type": "execute_result"
    }
   ],
   "source": [
    "genre_botanique.count('')"
   ]
  },
  {
   "cell_type": "markdown",
   "id": "0208fc36-f6b6-4402-a2f9-b254e8f5a994",
   "metadata": {},
   "source": [
    "16.Utilisez Matplotlib pour tracer l’histogramme représentant le nombre d’arbres\n",
    "plantés par année."
   ]
  },
  {
   "cell_type": "code",
   "execution_count": 32,
   "id": "b602c868-1a92-4801-9f63-368f4fd54c69",
   "metadata": {},
   "outputs": [],
   "source": [
    "import matplotlib.pyplot as plt"
   ]
  },
  {
   "cell_type": "code",
   "execution_count": 33,
   "id": "435bff84-e758-45e3-a6ec-9d949268bd06",
   "metadata": {},
   "outputs": [],
   "source": [
    "annee_plantation.sort()"
   ]
  },
  {
   "cell_type": "code",
   "execution_count": 34,
   "id": "ec1203c1-e9fb-4e4d-8d30-9669efefceaf",
   "metadata": {},
   "outputs": [
    {
     "data": {
      "text/plain": [
       "(array([4.430e+02, 4.220e+02, 0.000e+00, 6.600e+01, 0.000e+00, 7.450e+02,\n",
       "        2.700e+01, 0.000e+00, 7.000e+00, 0.000e+00, 7.600e+02, 9.500e+01,\n",
       "        0.000e+00, 5.700e+01, 0.000e+00, 1.160e+02, 3.500e+02, 0.000e+00,\n",
       "        1.444e+03, 0.000e+00, 7.500e+01, 0.000e+00, 3.640e+02, 3.400e+01,\n",
       "        0.000e+00, 3.500e+02, 0.000e+00, 3.922e+03, 9.720e+02, 0.000e+00,\n",
       "        6.160e+02, 0.000e+00, 9.120e+02, 3.610e+02, 0.000e+00, 1.528e+03,\n",
       "        0.000e+00, 6.440e+02, 4.480e+02, 0.000e+00, 3.330e+02, 0.000e+00,\n",
       "        6.660e+02, 0.000e+00, 9.900e+02, 2.380e+02, 0.000e+00, 7.710e+02,\n",
       "        0.000e+00, 2.660e+02, 3.070e+02, 0.000e+00, 4.330e+02, 0.000e+00,\n",
       "        1.460e+02, 2.260e+02, 0.000e+00, 1.610e+02, 0.000e+00, 2.880e+02,\n",
       "        0.000e+00, 7.810e+02, 3.850e+02, 0.000e+00, 2.380e+02, 0.000e+00,\n",
       "        2.200e+02, 6.030e+02, 0.000e+00, 4.610e+02, 0.000e+00, 1.626e+03,\n",
       "        3.410e+02, 0.000e+00, 3.520e+02, 0.000e+00, 3.520e+02, 4.500e+02,\n",
       "        0.000e+00, 6.160e+02, 0.000e+00, 1.550e+02, 0.000e+00, 2.190e+02,\n",
       "        6.960e+02, 0.000e+00, 4.670e+02, 0.000e+00, 5.300e+02, 3.380e+02,\n",
       "        0.000e+00, 3.350e+02, 0.000e+00, 8.810e+02, 9.960e+02, 0.000e+00,\n",
       "        3.470e+02, 0.000e+00, 2.720e+02, 1.000e+00]),\n",
       " array([ 0.  ,  0.59,  1.18,  1.77,  2.36,  2.95,  3.54,  4.13,  4.72,\n",
       "         5.31,  5.9 ,  6.49,  7.08,  7.67,  8.26,  8.85,  9.44, 10.03,\n",
       "        10.62, 11.21, 11.8 , 12.39, 12.98, 13.57, 14.16, 14.75, 15.34,\n",
       "        15.93, 16.52, 17.11, 17.7 , 18.29, 18.88, 19.47, 20.06, 20.65,\n",
       "        21.24, 21.83, 22.42, 23.01, 23.6 , 24.19, 24.78, 25.37, 25.96,\n",
       "        26.55, 27.14, 27.73, 28.32, 28.91, 29.5 , 30.09, 30.68, 31.27,\n",
       "        31.86, 32.45, 33.04, 33.63, 34.22, 34.81, 35.4 , 35.99, 36.58,\n",
       "        37.17, 37.76, 38.35, 38.94, 39.53, 40.12, 40.71, 41.3 , 41.89,\n",
       "        42.48, 43.07, 43.66, 44.25, 44.84, 45.43, 46.02, 46.61, 47.2 ,\n",
       "        47.79, 48.38, 48.97, 49.56, 50.15, 50.74, 51.33, 51.92, 52.51,\n",
       "        53.1 , 53.69, 54.28, 54.87, 55.46, 56.05, 56.64, 57.23, 57.82,\n",
       "        58.41, 59.  ]),\n",
       " <BarContainer object of 100 artists>)"
      ]
     },
     "execution_count": 34,
     "metadata": {},
     "output_type": "execute_result"
    },
    {
     "data": {
      "image/png": "[encoded data removed]",
      "text/plain": [
       "<Figure size 640x480 with 1 Axes>"
      ]
     },
     "metadata": {},
     "output_type": "display_data"
    }
   ],
   "source": [
    "plt.hist(annee_plantation, bins=100)"
   ]
  },
  {
   "cell_type": "markdown",
   "id": "037acd84-fd9a-41b1-b1f9-bca4a7ddff70",
   "metadata": {},
   "source": [
    "17.(plus dur) Triez les tuples (année, genre_botanique) en fonction de l’année de\n",
    "plantation par ordre décroissant."
   ]
  },
  {
   "cell_type": "code",
   "execution_count": 35,
   "id": "3cd04d55-bcda-412c-adfa-c3f20496270b",
   "metadata": {},
   "outputs": [
    {
     "data": {
      "text/plain": [
       "[('ANNEEDEPLANTATION', 'GENRE_BOTA'),\n",
       " ('2017', 'Fraxinus'),\n",
       " ('2017', 'Fraxinus'),\n",
       " ('2017', 'Fraxinus'),\n",
       " ('2017', 'Fraxinus'),\n",
       " ('2017', 'Fraxinus'),\n",
       " ('2017', 'Cedrus'),\n",
       " ('2017', 'Prunus'),\n",
       " ('2017', 'Prunus'),\n",
       " ('2017', 'Pinus'),\n",
       " ('2017', 'Acer'),\n",
       " ('2017', 'Acer'),\n",
       " ('2017', 'Acer'),\n",
       " ('2017', 'Quercus'),\n",
       " ('2017', 'Betula'),\n",
       " ('2017', 'Acer'),\n",
       " ('2017', 'Catalpa'),\n",
       " ('2017', 'Acer'),\n",
       " ('2017', 'Acer'),\n",
       " ('2017', 'Acer'),\n",
       " ('2017', 'Acer'),\n",
       " ('2017', 'Acer'),\n",
       " ('2017', 'Acer'),\n",
       " ('2017', 'Acer'),\n",
       " ('2017', 'Acer'),\n",
       " ('2017', 'Acer'),\n",
       " ('2017', 'Acer'),\n",
       " ('2017', 'Betula'),\n",
       " ('2017', 'Platanus'),\n",
       " ('2017', 'Platanus'),\n",
       " ('2017', 'Fraxinus'),\n",
       " ('2017', 'Fraxinus'),\n",
       " ('2017', 'Fraxinus'),\n",
       " ('2017', 'Chionanthus'),\n",
       " ('2017', 'Sophora'),\n",
       " ('2017', 'Sophora'),\n",
       " ('2017', 'Sophora'),\n",
       " ('2017', 'Tilia'),\n",
       " ('2017', 'Tilia'),\n",
       " ('2017', 'Tilia'),\n",
       " ('2017', 'Robinia'),\n",
       " ('2017', 'Prunus'),\n",
       " ('2017', 'Betula'),\n",
       " ('2017', 'Acer'),\n",
       " ('2017', 'Pterocarya'),\n",
       " ('2017', 'Pinus'),\n",
       " ('2017', 'Carpinus'),\n",
       " ('2017', 'Carpinus'),\n",
       " ('2017', 'Pinus'),\n",
       " ('2017', 'Tilia'),\n",
       " ('2017', 'Tilia'),\n",
       " ('2017', 'Tilia'),\n",
       " ('2017', 'Quercus'),\n",
       " ('2017', 'Quercus'),\n",
       " ('2017', 'Sophora'),\n",
       " ('2017', 'Tilia'),\n",
       " ('2017', 'Quercus'),\n",
       " ('2017', ''),\n",
       " ('2017', 'Acer'),\n",
       " ('2017', 'Acer'),\n",
       " ('2017', 'Quercus'),\n",
       " ('2017', 'Pyrus'),\n",
       " ('2017', 'Acer'),\n",
       " ('2017', 'Quercus'),\n",
       " ('2017', 'Parrotia'),\n",
       " ('2017', 'Parrotia'),\n",
       " ('2017', 'Acer'),\n",
       " ('2017', 'Acer'),\n",
       " ('2017', 'Acer'),\n",
       " ('2017', 'Acer'),\n",
       " ('2017', 'Acer'),\n",
       " ('2017', 'Acer'),\n",
       " ('2017', 'Acer'),\n",
       " ('2017', 'Acer'),\n",
       " ('2017', 'Acer'),\n",
       " ('2017', 'Acer'),\n",
       " ('2017', 'Acer'),\n",
       " ('2017', 'Acer'),\n",
       " ('2017', 'Acer'),\n",
       " ('2017', 'Acer'),\n",
       " ('2017', 'Zelkova'),\n",
       " ('2017', 'Zelkova'),\n",
       " ('2017', 'Zelkova'),\n",
       " ('2017', 'Zelkova'),\n",
       " ('2017', 'Zelkova'),\n",
       " ('2017', 'Zelkova'),\n",
       " ('2017', 'Zelkova'),\n",
       " ('2017', 'Zelkova'),\n",
       " ('2017', 'Cedrus'),\n",
       " ('2017', 'Gleditsia'),\n",
       " ('2017', 'Pterocarya'),\n",
       " ('2017', 'Pterocarya'),\n",
       " ('2017', 'Gleditsia'),\n",
       " ('2017', 'Acer'),\n",
       " ('2017', 'Betula'),\n",
       " ('2017', ''),\n",
       " ('2017', ''),\n",
       " ('2017', ''),\n",
       " ('2017', ''),\n",
       " ('2017', 'Chamaecyparis'),\n",
       " ('2017', 'Chamaecyparis'),\n",
       " ('2017', 'Diospyros'),\n",
       " ('2017', 'Ulmus'),\n",
       " ('2017', 'Juglans'),\n",
       " ('2017', 'Juglans'),\n",
       " ('2017', ''),\n",
       " ('2017', ''),\n",
       " ('2017', ''),\n",
       " ('2017', ''),\n",
       " ('2017', ''),\n",
       " ('2017', ''),\n",
       " ('2017', ''),\n",
       " ('2017', 'Acer'),\n",
       " ('2017', ''),\n",
       " ('2017', ''),\n",
       " ('2017', ''),\n",
       " ('2017', ''),\n",
       " ('2017', ''),\n",
       " ('2017', 'Quercus'),\n",
       " ('2017', 'Pyrus'),\n",
       " ('2017', 'Pinus'),\n",
       " ('2017', 'Pyrus'),\n",
       " ('2017', 'Pyrus'),\n",
       " ('2017', 'Pyrus'),\n",
       " ('2017', 'Pyrus'),\n",
       " ('2017', 'Pyrus'),\n",
       " ('2017', 'Pyrus'),\n",
       " ('2017', 'Pyrus'),\n",
       " ('2017', 'Acer'),\n",
       " ('2017', 'Acer'),\n",
       " ('2017', 'Acer'),\n",
       " ('2017', 'Acer'),\n",
       " ('2017', 'Acer'),\n",
       " ('2017', 'Acer'),\n",
       " ('2017', 'Fraxinus'),\n",
       " ('2017', 'Fraxinus'),\n",
       " ('2017', 'Fraxinus'),\n",
       " ('2017', 'Fraxinus'),\n",
       " ('2017', 'Syringa'),\n",
       " ('2017', 'Syringa'),\n",
       " ('2017', 'Syringa'),\n",
       " ('2017', 'Syringa'),\n",
       " ('2017', 'Syringa'),\n",
       " ('2017', 'Gleditsia'),\n",
       " ('2017', 'Gleditsia'),\n",
       " ('2017', 'Gleditsia'),\n",
       " ('2017', 'Gleditsia'),\n",
       " ('2017', 'Sophora'),\n",
       " ('2017', 'Sophora'),\n",
       " ('2017', 'Syringa'),\n",
       " ('2017', 'Fraxinus'),\n",
       " ('2017', 'Fraxinus'),\n",
       " ('2017', 'Syringa'),\n",
       " ('2017', 'Syringa'),\n",
       " ('2017', 'Syringa'),\n",
       " ('2017', 'Syringa'),\n",
       " ('2017', 'Fraxinus'),\n",
       " ('2017', ''),\n",
       " ('2017', 'Picea'),\n",
       " ('2017', 'Acer'),\n",
       " ('2017', 'Zelkova'),\n",
       " ('2017', 'Zelkova'),\n",
       " ('2017', 'Zelkova'),\n",
       " ('2017', 'Zelkova'),\n",
       " ('2017', 'Parrotia'),\n",
       " ('2017', 'Parrotia'),\n",
       " ('2017', 'Liriodendron'),\n",
       " ('2017', 'Acer'),\n",
       " ('2017', 'Betula'),\n",
       " ('2017', 'Prunus'),\n",
       " ('2017', 'Pterocarya'),\n",
       " ('2017', 'Liriodendron'),\n",
       " ('2017', 'Cercis'),\n",
       " ('2017', 'Acer'),\n",
       " ('2017', 'Malus'),\n",
       " ('2017', 'Robinia'),\n",
       " ('2017', 'Acer'),\n",
       " ('2017', 'Malus'),\n",
       " ('2017', 'Fraxinus'),\n",
       " ('2017', 'Fraxinus'),\n",
       " ('2017', 'Fraxinus'),\n",
       " ('2017', 'Fraxinus'),\n",
       " ('2017', 'Fraxinus'),\n",
       " ('2017', 'Fraxinus'),\n",
       " ('2017', 'Fraxinus'),\n",
       " ('2017', 'Fraxinus'),\n",
       " ('2017', 'Fraxinus'),\n",
       " ('2017', 'Fraxinus'),\n",
       " ('2017', 'Acer'),\n",
       " ('2017', 'Parrotia'),\n",
       " ('2017', 'Acer'),\n",
       " ('2017', 'Acer'),\n",
       " ('2017', 'Acer'),\n",
       " ('2017', 'Acer'),\n",
       " ('2017', 'Pinus'),\n",
       " ('2017', 'Pinus'),\n",
       " ('2017', 'Quercus'),\n",
       " ('2017', 'Quercus'),\n",
       " ('2017', 'Quercus'),\n",
       " ('2017', 'Quercus'),\n",
       " ('2017', 'Quercus'),\n",
       " ('2017', 'Acer'),\n",
       " ('2017', 'Lagerstroemia'),\n",
       " ('2017', 'Salix'),\n",
       " ('2017', 'Salix'),\n",
       " ('2017', 'Prunus'),\n",
       " ('2017', 'Quercus'),\n",
       " ('2017', 'Prunus'),\n",
       " ('2017', ''),\n",
       " ('2017', ''),\n",
       " ('2017', ''),\n",
       " ('2017', ''),\n",
       " ('2017', 'Robinia'),\n",
       " ('2017', 'Robinia'),\n",
       " ('2017', 'Pyrus'),\n",
       " ('2017', 'Salix'),\n",
       " ('2017', ''),\n",
       " ('2017', ''),\n",
       " ('2017', ''),\n",
       " ('2017', ''),\n",
       " ('2017', ''),\n",
       " ('2017', ''),\n",
       " ('2017', ''),\n",
       " ('2017', 'Platanus'),\n",
       " ('2017', 'Platanus'),\n",
       " ('2017', 'Platanus'),\n",
       " ('2017', 'Platanus'),\n",
       " ('2017', 'Platanus'),\n",
       " ('2017', 'Platanus'),\n",
       " ('2017', 'Platanus'),\n",
       " ('2017', 'Platanus'),\n",
       " ('2017', 'Platanus'),\n",
       " ('2017', 'Platanus'),\n",
       " ('2017', 'Platanus'),\n",
       " ('2017', 'Platanus'),\n",
       " ('2017', 'Platanus'),\n",
       " ('2017', 'Platanus'),\n",
       " ('2017', ''),\n",
       " ('2017', ''),\n",
       " ('2017', ''),\n",
       " ('2017', ''),\n",
       " ('2017', ''),\n",
       " ('2017', ''),\n",
       " ('2017', 'Platanus'),\n",
       " ('2017', 'Platanus'),\n",
       " ('2017', 'Platanus'),\n",
       " ('2017', 'Platanus'),\n",
       " ('2017', 'Platanus'),\n",
       " ('2017', ''),\n",
       " ('2017', 'Platanus'),\n",
       " ('2017', 'Platanus'),\n",
       " ('2017', 'Platanus'),\n",
       " ('2017', ''),\n",
       " ('2017', 'Platanus'),\n",
       " ('2017', 'Platanus'),\n",
       " ('2017', 'Platanus'),\n",
       " ('2017', 'Platanus'),\n",
       " ('2017', 'Platanus'),\n",
       " ('2017', 'Platanus'),\n",
       " ('2017', 'Platanus'),\n",
       " ('2017', 'Platanus'),\n",
       " ('2017', 'Platanus'),\n",
       " ('2017', 'Platanus'),\n",
       " ('2017', 'Platanus'),\n",
       " ('2017', 'Platanus'),\n",
       " ('2017', 'Platanus'),\n",
       " ('2017', 'Platanus'),\n",
       " ('2017', 'Platanus'),\n",
       " ('2017', 'Platanus'),\n",
       " ('2017', ''),\n",
       " ('2017', ''),\n",
       " ('2017', ''),\n",
       " ('2017', ''),\n",
       " ('2016', 'Acer'),\n",
       " ('2016', 'Acer'),\n",
       " ('2016', 'Celtis'),\n",
       " ('2016', 'Celtis'),\n",
       " ('2016', 'Celtis'),\n",
       " ('2016', 'Malus'),\n",
       " ('2016', 'Celtis'),\n",
       " ('2016', 'Celtis'),\n",
       " ('2016', 'Celtis'),\n",
       " ('2016', 'Celtis'),\n",
       " ('2016', 'Pyrus'),\n",
       " ('2016', 'Pyrus'),\n",
       " ('2016', 'Pyrus'),\n",
       " ('2016', 'Pyrus'),\n",
       " ('2016', 'Acer'),\n",
       " ('2016', 'Acer'),\n",
       " ('2016', 'Acer'),\n",
       " ('2016', 'Crataegus'),\n",
       " ('2016', 'Acer'),\n",
       " ('2016', 'Betula'),\n",
       " ('2016', 'Acer'),\n",
       " ('2016', 'Acer'),\n",
       " ('2016', 'Acer'),\n",
       " ('2016', 'Acer'),\n",
       " ('2016', 'Acer'),\n",
       " ('2016', 'Acer'),\n",
       " ('2016', 'Pyrus'),\n",
       " ('2016', 'Crataegus'),\n",
       " ('2016', 'Acer'),\n",
       " ('2016', 'Crataegus'),\n",
       " ('2016', 'Crataegus'),\n",
       " ('2016', 'Crataegus'),\n",
       " ('2016', 'Celtis'),\n",
       " ('2016', 'Acer'),\n",
       " ('2016', 'Acer'),\n",
       " ('2016', 'Acer'),\n",
       " ('2016', 'Acer'),\n",
       " ('2016', 'Acer'),\n",
       " ('2016', 'Acer'),\n",
       " ('2016', 'Cedrus'),\n",
       " ('2016', 'Cedrus'),\n",
       " ('2016', 'Fagus'),\n",
       " ('2016', 'Fagus'),\n",
       " ('2016', 'Fagus'),\n",
       " ('2016', 'Alnus'),\n",
       " ('2016', 'Alnus'),\n",
       " ('2016', 'Carpinus'),\n",
       " ('2016', 'Carpinus'),\n",
       " ('2016', 'Carpinus'),\n",
       " ('2016', 'Carpinus'),\n",
       " ('2016', 'Carpinus'),\n",
       " ('2016', 'Carpinus'),\n",
       " ('2016', 'Acer'),\n",
       " ('2016', 'Acer'),\n",
       " ('2016', 'Acer'),\n",
       " ('2016', 'Acer'),\n",
       " ('2016', 'Acer'),\n",
       " ('2016', 'Crataegus'),\n",
       " ('2016', 'Crataegus'),\n",
       " ('2016', 'Alnus'),\n",
       " ('2016', 'Alnus'),\n",
       " ('2016', 'Alnus'),\n",
       " ('2016', 'Sorbus'),\n",
       " ('2016', 'Sorbus'),\n",
       " ('2016', 'Sorbus'),\n",
       " ('2016', 'Malus'),\n",
       " ('2016', 'Cedrus'),\n",
       " ('2016', 'Malus'),\n",
       " ('2016', 'Sorbus'),\n",
       " ('2016', 'Sorbus'),\n",
       " ('2016', 'Sorbus'),\n",
       " ('2016', 'Cedrus'),\n",
       " ('2016', 'Malus'),\n",
       " ('2016', 'Malus'),\n",
       " ('2016', 'Quercus'),\n",
       " ('2016', 'Quercus'),\n",
       " ('2016', 'Quercus'),\n",
       " ('2016', 'Malus'),\n",
       " ('2016', 'Malus'),\n",
       " ('2016', 'Malus'),\n",
       " ('2016', 'Quercus'),\n",
       " ('2016', 'Quercus'),\n",
       " ('2016', 'Quercus'),\n",
       " ('2016', 'Sorbus'),\n",
       " ('2016', 'Malus'),\n",
       " ('2016', 'Sorbus'),\n",
       " ('2016', 'AmÃ©lanchier'),\n",
       " ('2016', 'AmÃ©lanchier'),\n",
       " ('2016', 'Carpinus'),\n",
       " ('2016', 'Carpinus'),\n",
       " ('2016', 'Carpinus'),\n",
       " ('2016', 'Carpinus'),\n",
       " ('2016', 'Carpinus'),\n",
       " ('2016', 'Acer'),\n",
       " ('2016', 'Acer'),\n",
       " ('2016', 'Acer'),\n",
       " ('2016', 'Quercus'),\n",
       " ('2016', 'Quercus'),\n",
       " ('2016', 'Quercus'),\n",
       " ('2016', 'Quercus'),\n",
       " ('2016', 'Quercus'),\n",
       " ('2016', 'Quercus'),\n",
       " ('2016', 'Quercus'),\n",
       " ('2016', 'Quercus'),\n",
       " ('2016', 'Quercus'),\n",
       " ('2016', 'Quercus'),\n",
       " ('2016', 'Quercus'),\n",
       " ('2016', 'Quercus'),\n",
       " ('2016', 'Quercus'),\n",
       " ('2016', 'Quercus'),\n",
       " ('2016', 'Quercus'),\n",
       " ('2016', 'Quercus'),\n",
       " ('2016', 'Quercus'),\n",
       " ('2016', 'Prunus'),\n",
       " ('2016', 'Prunus'),\n",
       " ('2016', 'Prunus'),\n",
       " ('2016', 'Malus'),\n",
       " ('2016', 'Ficus'),\n",
       " ('2016', 'Salix'),\n",
       " ('2016', 'AmÃ©lanchier'),\n",
       " ('2016', 'AmÃ©lanchier'),\n",
       " ('2016', 'AmÃ©lanchier'),\n",
       " ('2016', 'Acer'),\n",
       " ('2016', 'Acer'),\n",
       " ('2016', 'Acer'),\n",
       " ('2016', 'Quercus'),\n",
       " ('2016', 'Zelkova'),\n",
       " ('2016', 'Zelkova'),\n",
       " ('2016', 'Zelkova'),\n",
       " ('2016', 'Quercus'),\n",
       " ('2016', 'Quercus'),\n",
       " ('2016', 'Zelkova'),\n",
       " ('2016', 'Zelkova'),\n",
       " ('2016', 'Quercus'),\n",
       " ('2016', 'Quercus'),\n",
       " ('2016', 'Pyrus'),\n",
       " ('2016', 'Prunus'),\n",
       " ('2016', 'Pyrus'),\n",
       " ('2016', 'Prunus'),\n",
       " ('2016', 'Prunus'),\n",
       " ('2016', ''),\n",
       " ('2016', 'Platanus'),\n",
       " ('2016', 'Platanus'),\n",
       " ('2016', 'Magnolia'),\n",
       " ('2016', 'Magnolia'),\n",
       " ('2016', 'Magnolia'),\n",
       " ('2016', ''),\n",
       " ('2016', ''),\n",
       " ('2016', ''),\n",
       " ('2016', 'Malus'),\n",
       " ('2016', 'Malus'),\n",
       " ('2016', 'Malus'),\n",
       " ('2016', 'Malus'),\n",
       " ('2016', 'Malus'),\n",
       " ('2016', 'Malus'),\n",
       " ('2016', 'Malus'),\n",
       " ('2016', 'Malus'),\n",
       " ('2016', 'Sequoia'),\n",
       " ('2016', 'Zelkova'),\n",
       " ('2016', 'Fraxinus'),\n",
       " ('2016', 'Fraxinus'),\n",
       " ('2016', ''),\n",
       " ('2016', ''),\n",
       " ('2016', ''),\n",
       " ('2016', ''),\n",
       " ('2016', ''),\n",
       " ('2016', ''),\n",
       " ('2016', ''),\n",
       " ('2016', ''),\n",
       " ('2016', ''),\n",
       " ('2016', ''),\n",
       " ('2016', 'Lagerstroemia'),\n",
       " ('2016', 'Lagerstroemia'),\n",
       " ('2016', 'AmÃ©lanchier'),\n",
       " ('2016', 'Cedrus'),\n",
       " ('2016', ''),\n",
       " ('2016', ''),\n",
       " ('2016', ''),\n",
       " ('2016', ''),\n",
       " ('2016', ''),\n",
       " ('2016', ''),\n",
       " ('2016', ''),\n",
       " ('2016', 'Gleditsia'),\n",
       " ('2016', 'Gleditsia'),\n",
       " ('2016', 'Gleditsia'),\n",
       " ('2016', 'Gleditsia'),\n",
       " ('2016', 'Gleditsia'),\n",
       " ('2016', 'Gleditsia'),\n",
       " ('2016', 'Gleditsia'),\n",
       " ('2016', 'Gleditsia'),\n",
       " ('2016', 'Gleditsia'),\n",
       " ('2016', 'Gleditsia'),\n",
       " ('2016', 'Gleditsia'),\n",
       " ('2016', 'Gleditsia'),\n",
       " ('2016', 'Gleditsia'),\n",
       " ('2016', 'Gleditsia'),\n",
       " ('2016', 'Gleditsia'),\n",
       " ('2016', 'Gleditsia'),\n",
       " ('2016', 'Gleditsia'),\n",
       " ('2016', 'Celtis'),\n",
       " ('2016', 'Pterocarya'),\n",
       " ('2016', 'Pterocarya'),\n",
       " ('2016', 'Prunus'),\n",
       " ('2016', 'Mespilus'),\n",
       " ('2016', 'Mespilus'),\n",
       " ('2016', 'Abies'),\n",
       " ('2016', 'Prunus'),\n",
       " ('2016', 'Prunus'),\n",
       " ('2016', ''),\n",
       " ('2016', ''),\n",
       " ('2016', ''),\n",
       " ('2016', ''),\n",
       " ('2016', ''),\n",
       " ('2016', ''),\n",
       " ('2016', ''),\n",
       " ('2016', ''),\n",
       " ('2016', 'Pistacia'),\n",
       " ('2016', 'Pistacia'),\n",
       " ('2016', 'Pyrus'),\n",
       " ('2016', 'Magnolia'),\n",
       " ('2016', 'Fraxinus'),\n",
       " ('2016', 'Gleditsia'),\n",
       " ('2016', 'Gleditsia'),\n",
       " ('2016', 'Gleditsia'),\n",
       " ('2016', 'Gleditsia'),\n",
       " ('2016', 'Gleditsia'),\n",
       " ('2016', 'Gleditsia'),\n",
       " ('2016', 'Gleditsia'),\n",
       " ('2016', 'Gleditsia'),\n",
       " ('2016', 'Gleditsia'),\n",
       " ('2016', 'Syringa'),\n",
       " ('2016', 'Syringa'),\n",
       " ('2016', 'Syringa'),\n",
       " ('2016', 'Halesia'),\n",
       " ('2016', 'Halesia'),\n",
       " ('2016', 'Ulmus'),\n",
       " ('2016', 'Ulmus'),\n",
       " ('2016', 'Sorbus'),\n",
       " ('2016', 'Fraxinus'),\n",
       " ('2016', 'Fraxinus'),\n",
       " ('2016', 'Fraxinus'),\n",
       " ('2016', 'Fraxinus'),\n",
       " ('2016', 'Fraxinus'),\n",
       " ('2016', 'Fraxinus'),\n",
       " ('2016', 'Fraxinus'),\n",
       " ('2016', 'Fraxinus'),\n",
       " ('2016', 'Fraxinus'),\n",
       " ('2016', 'Fraxinus'),\n",
       " ('2016', 'Fraxinus'),\n",
       " ('2016', 'Fraxinus'),\n",
       " ('2016', 'Cedrus'),\n",
       " ('2016', 'Salix'),\n",
       " ('2016', 'Prunus'),\n",
       " ('2016', 'Prunus'),\n",
       " ('2016', 'Prunus'),\n",
       " ('2016', 'Prunus'),\n",
       " ('2016', 'Prunus'),\n",
       " ('2016', 'Prunus'),\n",
       " ('2016', 'Prunus'),\n",
       " ('2016', 'Platanus'),\n",
       " ('2016', 'Platanus'),\n",
       " ('2016', 'Platanus'),\n",
       " ('2016', 'Platanus'),\n",
       " ('2016', 'Platanus'),\n",
       " ('2016', 'Platanus'),\n",
       " ('2016', 'Platanus'),\n",
       " ('2016', 'Platanus'),\n",
       " ('2016', 'Platanus'),\n",
       " ('2016', 'Platanus'),\n",
       " ('2016', 'Platanus'),\n",
       " ('2016', 'Platanus'),\n",
       " ('2016', 'Platanus'),\n",
       " ('2016', 'Platanus'),\n",
       " ('2016', 'Platanus'),\n",
       " ('2016', 'Platanus'),\n",
       " ('2016', 'Platanus'),\n",
       " ('2016', 'Platanus'),\n",
       " ('2016', 'Platanus'),\n",
       " ('2016', 'Platanus'),\n",
       " ('2016', 'Platanus'),\n",
       " ('2016', 'Platanus'),\n",
       " ('2016', 'Platanus'),\n",
       " ('2016', 'Platanus'),\n",
       " ('2016', 'Platanus'),\n",
       " ('2016', 'Platanus'),\n",
       " ('2016', 'Platanus'),\n",
       " ('2016', 'Platanus'),\n",
       " ('2016', 'Platanus'),\n",
       " ('2016', 'Platanus'),\n",
       " ('2016', 'Parrotia'),\n",
       " ('2016', 'Parrotia'),\n",
       " ('2016', 'Platanus'),\n",
       " ('2016', 'Platanus'),\n",
       " ('2016', 'Platanus'),\n",
       " ('2016', 'Platanus'),\n",
       " ('2016', 'Platanus'),\n",
       " ('2016', 'Acer'),\n",
       " ('2016', 'Acer'),\n",
       " ('2016', 'Acer'),\n",
       " ('2016', 'Acer'),\n",
       " ('2016', 'Acer'),\n",
       " ('2016', 'Acer'),\n",
       " ('2016', 'Diospyros'),\n",
       " ('2016', 'Diospyros'),\n",
       " ('2016', 'Juglans'),\n",
       " ('2016', 'Juglans'),\n",
       " ('2016', 'Juglans'),\n",
       " ('2016', 'Juglans'),\n",
       " ('2016', ''),\n",
       " ('2016', ''),\n",
       " ('2016', 'Acer'),\n",
       " ('2016', 'Tilia'),\n",
       " ('2016', 'Fraxinus'),\n",
       " ('2016', 'Fraxinus'),\n",
       " ('2016', 'Liriodendron'),\n",
       " ('2016', 'Liriodendron'),\n",
       " ('2016', 'Albizia'),\n",
       " ('2016', 'Albizia'),\n",
       " ('2016', 'Tetradium'),\n",
       " ('2016', 'Tetradium'),\n",
       " ('2016', 'Liriodendron'),\n",
       " ('2016', 'Liriodendron'),\n",
       " ('2016', 'Liriodendron'),\n",
       " ('2016', 'Albizia'),\n",
       " ('2016', 'Albizia'),\n",
       " ('2016', 'Albizia'),\n",
       " ('2016', 'Koelreuteria'),\n",
       " ('2016', 'Koelreuteria'),\n",
       " ('2016', 'Koelreuteria'),\n",
       " ('2016', 'Koelreuteria'),\n",
       " ('2016', 'Koelreuteria'),\n",
       " ('2016', 'Salix'),\n",
       " ('2016', 'Acer'),\n",
       " ('2016', 'Quercus'),\n",
       " ('2016', 'Cercis'),\n",
       " ('2016', 'Lagerstroemia'),\n",
       " ('2016', 'Lagerstroemia'),\n",
       " ('2016', 'Lagerstroemia'),\n",
       " ('2016', 'Lagerstroemia'),\n",
       " ('2016', 'Lagerstroemia'),\n",
       " ('2016', 'Lagerstroemia'),\n",
       " ('2016', 'Lagerstroemia'),\n",
       " ('2016', 'Lagerstroemia'),\n",
       " ('2016', 'Crataegus'),\n",
       " ('2016', 'Acer'),\n",
       " ('2016', 'Acer'),\n",
       " ('2016', 'Acer'),\n",
       " ('2015', 'Liquidambar'),\n",
       " ('2015', 'Liquidambar'),\n",
       " ('2015', 'Crataegus'),\n",
       " ('2015', 'Crataegus'),\n",
       " ('2015', 'Crataegus'),\n",
       " ('2015', 'Malus'),\n",
       " ('2015', 'Pyrus'),\n",
       " ('2015', 'Pyrus'),\n",
       " ('2015', 'Pyrus'),\n",
       " ('2015', 'Davidia'),\n",
       " ('2015', 'Acer'),\n",
       " ('2015', 'Acer'),\n",
       " ('2015', 'Acer'),\n",
       " ('2015', 'Liquidambar'),\n",
       " ('2015', 'Liquidambar'),\n",
       " ('2015', 'Liquidambar'),\n",
       " ('2015', 'Liquidambar'),\n",
       " ('2015', 'Liquidambar'),\n",
       " ('2015', 'Liquidambar'),\n",
       " ('2015', 'Sorbus'),\n",
       " ('2015', 'Sophora'),\n",
       " ('2015', 'Tetradium'),\n",
       " ('2015', 'Tetradium'),\n",
       " ('2015', 'Alnus'),\n",
       " ('2015', 'Salix'),\n",
       " ('2015', 'Salix'),\n",
       " ('2015', 'Alnus'),\n",
       " ('2015', 'Salix'),\n",
       " ('2015', 'Salix'),\n",
       " ('2015', 'Salix'),\n",
       " ('2015', 'Salix'),\n",
       " ('2015', 'Salix'),\n",
       " ('2015', 'Salix'),\n",
       " ('2015', 'Salix'),\n",
       " ('2015', 'Acer'),\n",
       " ('2015', 'Metasequoia'),\n",
       " ('2015', 'Alnus'),\n",
       " ('2015', 'Alnus'),\n",
       " ('2015', 'Quercus'),\n",
       " ('2015', 'Alnus'),\n",
       " ('2015', 'Alnus'),\n",
       " ('2015', 'Quercus'),\n",
       " ('2015', 'Fraxinus'),\n",
       " ('2015', 'Pteroceltis'),\n",
       " ('2015', 'Pteroceltis'),\n",
       " ('2015', 'Tilia'),\n",
       " ('2015', 'Quercus'),\n",
       " ('2015', 'Juglans'),\n",
       " ('2015', 'Fraxinus'),\n",
       " ('2015', 'Fraxinus'),\n",
       " ('2015', 'Fraxinus'),\n",
       " ('2015', 'Fraxinus'),\n",
       " ('2015', 'Fraxinus'),\n",
       " ('2015', 'Quercus'),\n",
       " ('2015', 'Fraxinus'),\n",
       " ('2015', 'Fraxinus'),\n",
       " ('2015', 'Fraxinus'),\n",
       " ('2015', 'Liriodendron'),\n",
       " ('2015', 'Prunus'),\n",
       " ('2015', 'Malus'),\n",
       " ('2015', 'Pyrus'),\n",
       " ('2015', 'Fontanesia'),\n",
       " ('2015', 'AmÃ©lanchier'),\n",
       " ('2015', 'Prunus'),\n",
       " ('2015', 'Prunus'),\n",
       " ('2015', 'Prunus'),\n",
       " ('2015', 'Alnus'),\n",
       " ('2015', 'Alnus'),\n",
       " ('2015', 'Alnus'),\n",
       " ('2015', 'Pyrus'),\n",
       " ('2015', 'Quercus'),\n",
       " ('2015', 'Prunus'),\n",
       " ('2015', 'Prunus'),\n",
       " ('2015', 'Fraxinus'),\n",
       " ('2015', 'Fraxinus'),\n",
       " ('2015', 'Prunus'),\n",
       " ('2015', 'Chionanthus'),\n",
       " ('2015', 'Chionanthus'),\n",
       " ('2015', 'Chionanthus'),\n",
       " ('2015', 'Pteroceltis'),\n",
       " ('2015', 'Pteroceltis'),\n",
       " ('2015', 'Pteroceltis'),\n",
       " ('2015', 'Davidia'),\n",
       " ('2015', 'Zelkova'),\n",
       " ('2015', 'Halesia'),\n",
       " ('2015', 'Malus'),\n",
       " ('2015', 'Juglans'),\n",
       " ('2015', 'Prunus'),\n",
       " ('2015', 'Prunus'),\n",
       " ('2015', 'Juglans'),\n",
       " ('2015', 'Malus'),\n",
       " ('2015', 'Prunus'),\n",
       " ('2015', 'Prunus'),\n",
       " ('2015', 'Cedrus'),\n",
       " ('2015', 'Pinus'),\n",
       " ('2015', 'Pinus'),\n",
       " ('2015', 'Acer'),\n",
       " ('2015', 'Acer'),\n",
       " ('2015', 'Acer'),\n",
       " ('2015', 'Quercus'),\n",
       " ('2015', 'Quercus'),\n",
       " ('2015', 'Ulmus'),\n",
       " ('2015', 'Ulmus'),\n",
       " ('2015', 'Ulmus'),\n",
       " ('2015', 'Alnus'),\n",
       " ('2015', 'Alnus'),\n",
       " ('2015', 'Alnus'),\n",
       " ('2015', 'Acer'),\n",
       " ('2015', 'Malus'),\n",
       " ('2015', 'Malus'),\n",
       " ('2015', 'Malus'),\n",
       " ('2015', 'Malus'),\n",
       " ('2015', 'Pyrus'),\n",
       " ('2015', 'Pyrus'),\n",
       " ('2015', 'Prunus'),\n",
       " ('2015', 'Prunus'),\n",
       " ('2015', 'Malus'),\n",
       " ('2015', 'Quercus'),\n",
       " ('2015', 'Platanus'),\n",
       " ('2015', 'Acer'),\n",
       " ('2015', 'Malus'),\n",
       " ('2015', 'Quercus'),\n",
       " ('2015', 'Quercus'),\n",
       " ('2015', 'Phellodendron'),\n",
       " ('2015', 'Acer'),\n",
       " ('2015', 'Acer'),\n",
       " ('2015', 'Alnus'),\n",
       " ('2015', 'Acer'),\n",
       " ('2015', 'Alnus'),\n",
       " ('2015', 'Alnus'),\n",
       " ('2015', 'Alnus'),\n",
       " ('2015', 'Phellodendron'),\n",
       " ('2015', 'Alnus'),\n",
       " ('2015', 'Alnus'),\n",
       " ('2015', 'Acer'),\n",
       " ('2015', 'Phellodendron'),\n",
       " ('2015', 'Acer'),\n",
       " ('2015', 'Diospyros'),\n",
       " ('2015', 'Parrotia'),\n",
       " ('2015', 'Clerodendron'),\n",
       " ('2015', 'Magnolia'),\n",
       " ('2015', 'Fraxinus'),\n",
       " ('2015', 'Fraxinus'),\n",
       " ('2015', 'Prunus'),\n",
       " ('2015', 'Prunus'),\n",
       " ('2015', 'Pinus'),\n",
       " ('2015', 'Pinus'),\n",
       " ('2015', 'Pinus'),\n",
       " ('2015', 'Pinus'),\n",
       " ('2015', 'Pinus'),\n",
       " ('2015', 'Pinus'),\n",
       " ('2015', 'Pinus'),\n",
       " ('2015', 'Ilex'),\n",
       " ('2015', 'Ilex'),\n",
       " ('2015', 'Ilex'),\n",
       " ('2015', 'Quercus'),\n",
       " ('2015', 'Quercus'),\n",
       " ('2015', 'Quercus'),\n",
       " ('2015', 'Quercus'),\n",
       " ('2015', 'Quercus'),\n",
       " ('2015', 'Quercus'),\n",
       " ('2015', 'Quercus'),\n",
       " ('2015', 'Quercus'),\n",
       " ('2015', 'Quercus'),\n",
       " ('2015', 'Quercus'),\n",
       " ('2015', 'Quercus'),\n",
       " ('2015', 'Acer'),\n",
       " ('2015', 'Acer'),\n",
       " ('2015', 'Cornus'),\n",
       " ('2015', 'Cornus'),\n",
       " ('2015', 'Tilia'),\n",
       " ('2015', 'Acer'),\n",
       " ('2015', 'Koelreuteria'),\n",
       " ('2015', 'Koelreuteria'),\n",
       " ('2015', 'Liriodendron'),\n",
       " ('2015', 'Prunus'),\n",
       " ('2015', 'Liquidambar'),\n",
       " ('2015', 'Liquidambar'),\n",
       " ('2015', 'Acer'),\n",
       " ('2015', 'Magnolia'),\n",
       " ('2015', 'Pterostyrax'),\n",
       " ('2015', 'Magnolia'),\n",
       " ('2015', 'Pterostyrax'),\n",
       " ('2015', 'Magnolia'),\n",
       " ('2015', 'Celtis'),\n",
       " ('2015', 'Sophora'),\n",
       " ('2015', 'Pinus'),\n",
       " ('2015', 'Sophora'),\n",
       " ('2015', 'Celtis'),\n",
       " ('2015', 'Sophora'),\n",
       " ('2015', 'Celtis'),\n",
       " ('2015', 'Gleditsia'),\n",
       " ('2015', 'Celtis'),\n",
       " ('2015', 'Gleditsia'),\n",
       " ('2015', 'Sophora'),\n",
       " ('2015', 'Celtis'),\n",
       " ('2015', 'Prunus'),\n",
       " ('2015', 'Prunus'),\n",
       " ('2015', 'Prunus'),\n",
       " ('2015', 'Prunus'),\n",
       " ('2015', 'Prunus'),\n",
       " ('2015', 'Prunus'),\n",
       " ('2015', 'Prunus'),\n",
       " ('2015', 'Prunus'),\n",
       " ('2015', 'Prunus'),\n",
       " ('2015', 'Prunus'),\n",
       " ('2015', 'Quercus'),\n",
       " ('2015', 'Quercus'),\n",
       " ('2015', 'Acer'),\n",
       " ('2015', 'Pinus'),\n",
       " ('2015', 'Pinus'),\n",
       " ('2015', 'Pinus'),\n",
       " ('2015', 'Sorbus'),\n",
       " ('2015', 'Crataegus'),\n",
       " ('2015', 'Cornus'),\n",
       " ('2015', 'Crataegus'),\n",
       " ('2015', 'Corylus'),\n",
       " ('2015', 'Sorbus'),\n",
       " ('2015', 'Crataegus'),\n",
       " ('2015', 'Tilia'),\n",
       " ('2015', 'Tilia'),\n",
       " ('2015', 'Prunus'),\n",
       " ('2015', 'Crataegus'),\n",
       " ('2015', 'Sorbus'),\n",
       " ('2015', 'Tilia'),\n",
       " ('2015', 'Prunus'),\n",
       " ('2015', 'AmÃ©lanchier'),\n",
       " ('2015', 'Sambucus'),\n",
       " ('2015', 'Crataegus'),\n",
       " ('2015', 'Crataegus'),\n",
       " ('2015', 'Crataegus'),\n",
       " ('2015', 'Carpinus'),\n",
       " ('2015', 'Carpinus'),\n",
       " ('2015', 'Ulmus'),\n",
       " ('2015', 'Chionanthus'),\n",
       " ('2015', 'Chionanthus'),\n",
       " ('2015', 'Fagus'),\n",
       " ('2015', 'Carpinus'),\n",
       " ('2015', 'Alnus'),\n",
       " ('2015', 'Pyrus'),\n",
       " ('2015', 'Prunus'),\n",
       " ('2015', 'Acer'),\n",
       " ('2015', 'Prunus'),\n",
       " ('2015', 'Pyrus'),\n",
       " ('2015', 'Prunus'),\n",
       " ('2015', 'Acer'),\n",
       " ('2015', 'Carpinus'),\n",
       " ('2015', 'Carpinus'),\n",
       " ('2015', 'Carpinus'),\n",
       " ('2015', 'Corylus'),\n",
       " ('2015', 'Alnus'),\n",
       " ('2015', 'Prunus'),\n",
       " ('2015', 'Pyrus'),\n",
       " ('2015', 'Prunus'),\n",
       " ('2015', 'Acer'),\n",
       " ('2015', 'Acer'),\n",
       " ('2015', 'Alnus'),\n",
       " ('2015', 'Prunus'),\n",
       " ('2015', 'Carpinus'),\n",
       " ('2015', 'Acer'),\n",
       " ('2015', 'Acer'),\n",
       " ('2015', 'Sambucus'),\n",
       " ('2015', 'Fraxinus'),\n",
       " ('2015', 'Phellodendron'),\n",
       " ('2015', 'Phellodendron'),\n",
       " ('2015', 'Phellodendron'),\n",
       " ('2015', 'Phellodendron'),\n",
       " ('2015', 'Acer'),\n",
       " ('2015', 'Acer'),\n",
       " ('2015', 'Acer'),\n",
       " ('2015', 'Acer'),\n",
       " ('2015', 'Corylus'),\n",
       " ('2015', 'Corylus'),\n",
       " ('2015', 'Corylus'),\n",
       " ('2015', 'Corylus'),\n",
       " ('2015', 'Styrax'),\n",
       " ('2015', 'Styrax'),\n",
       " ('2015', 'Styrax'),\n",
       " ('2015', 'Quercus'),\n",
       " ('2015', 'Quercus'),\n",
       " ('2015', 'Pinus'),\n",
       " ('2015', 'Pinus'),\n",
       " ('2015', 'Betula'),\n",
       " ('2015', 'Koelreuteria'),\n",
       " ('2015', 'Betula'),\n",
       " ('2015', 'Koelreuteria'),\n",
       " ('2015', 'Ulmus'),\n",
       " ('2015', 'Koelreuteria'),\n",
       " ('2015', 'Koelreuteria'),\n",
       " ('2015', 'Ulmus'),\n",
       " ('2015', 'Koelreuteria'),\n",
       " ('2015', 'Betula'),\n",
       " ('2015', 'Betula'),\n",
       " ('2015', 'Koelreuteria'),\n",
       " ('2015', 'Koelreuteria'),\n",
       " ('2015', 'Koelreuteria'),\n",
       " ('2015', 'Acer'),\n",
       " ('2015', 'Betula'),\n",
       " ('2015', 'Acer'),\n",
       " ('2015', 'Ulmus'),\n",
       " ('2015', 'Betula'),\n",
       " ('2015', 'Betula'),\n",
       " ('2015', 'Koelreuteria'),\n",
       " ('2015', 'Betula'),\n",
       " ('2015', 'Carpinus'),\n",
       " ('2015', 'Acer'),\n",
       " ('2015', 'Koelreuteria'),\n",
       " ('2015', 'Acer'),\n",
       " ('2015', 'Acer'),\n",
       " ('2015', 'Acer'),\n",
       " ('2015', 'Prunus'),\n",
       " ('2015', 'Prunus'),\n",
       " ('2015', 'Koelreuteria'),\n",
       " ('2015', 'Betula'),\n",
       " ('2015', 'Cladastris'),\n",
       " ('2015', 'Cladastris'),\n",
       " ('2015', 'Cladastris'),\n",
       " ('2015', 'Tetradium'),\n",
       " ('2015', 'Tetradium'),\n",
       " ('2015', 'Tetradium'),\n",
       " ('2015', 'Tetradium'),\n",
       " ('2015', 'Tetradium'),\n",
       " ('2015', 'Tetradium'),\n",
       " ('2015', 'Prunus'),\n",
       " ('2015', 'Magnolia'),\n",
       " ('2015', 'Liquidambar'),\n",
       " ('2015', 'Quercus'),\n",
       " ('2015', 'Quercus'),\n",
       " ('2015', 'Quercus'),\n",
       " ('2015', 'Quercus'),\n",
       " ('2015', 'Quercus'),\n",
       " ('2015', 'Quercus'),\n",
       " ('2015', 'Quercus'),\n",
       " ('2015', 'Quercus'),\n",
       " ('2015', 'Quercus'),\n",
       " ('2015', 'Quercus'),\n",
       " ('2015', 'Quercus'),\n",
       " ('2015', 'Quercus'),\n",
       " ('2015', 'Quercus'),\n",
       " ('2015', 'Quercus'),\n",
       " ('2015', 'Quercus'),\n",
       " ('2015', 'Quercus'),\n",
       " ('2015', 'Quercus'),\n",
       " ('2015', 'Quercus'),\n",
       " ('2015', 'Magnolia'),\n",
       " ('2015', 'Magnolia'),\n",
       " ('2015', 'Magnolia'),\n",
       " ('2015', 'Magnolia'),\n",
       " ('2015', 'Magnolia'),\n",
       " ('2015', 'Magnolia'),\n",
       " ('2015', 'Magnolia'),\n",
       " ('2015', 'Magnolia'),\n",
       " ('2015', 'Pistacia'),\n",
       " ('2015', 'Pistacia'),\n",
       " ('2015', 'Pistacia'),\n",
       " ('2015', 'Pistacia'),\n",
       " ('2015', 'Quercus'),\n",
       " ('2015', 'Quercus'),\n",
       " ('2015', 'Quercus'),\n",
       " ('2015', 'Quercus'),\n",
       " ('2015', 'Quercus'),\n",
       " ('2015', 'Quercus'),\n",
       " ('2015', 'Celtis'),\n",
       " ('2015', 'Celtis'),\n",
       " ('2015', 'Celtis'),\n",
       " ('2015', 'Celtis'),\n",
       " ('2015', 'Celtis'),\n",
       " ('2015', 'Celtis'),\n",
       " ('2015', 'Celtis'),\n",
       " ('2015', 'Celtis'),\n",
       " ('2015', 'Celtis'),\n",
       " ('2015', 'Celtis'),\n",
       " ('2015', 'Celtis'),\n",
       " ('2015', 'Celtis'),\n",
       " ('2015', 'Celtis'),\n",
       " ('2015', 'Celtis'),\n",
       " ('2015', 'Celtis'),\n",
       " ('2015', 'Celtis'),\n",
       " ('2015', 'Celtis'),\n",
       " ('2015', 'Celtis'),\n",
       " ...]"
      ]
     },
     "execution_count": 35,
     "metadata": {},
     "output_type": "execute_result"
    }
   ],
   "source": [
    "genre_botanique_tuples.sort(key=lambda x: x[0])\n",
    "genre_botanique_tuples = genre_botanique_tuples[::-1]\n",
    "genre_botanique_tuples"
   ]
  },
  {
   "cell_type": "code",
   "execution_count": null,
   "id": "ff770b37-31cf-41dd-9665-0767aae66ae3",
   "metadata": {},
   "outputs": [],
   "source": []
  }
 ],
 "metadata": {
  "kernelspec": {
   "display_name": "Python 3 (ipykernel)",
   "language": "python",
   "name": "python3"
  },
  "language_info": {
   "codemirror_mode": {
    "name": "ipython",
    "version": 3
   },
   "file_extension": ".py",
   "mimetype": "text/x-python",
   "name": "python",
   "nbconvert_exporter": "python",
   "pygments_lexer": "ipython3",
   "version": "3.13.5"
  }
 },
 "nbformat": 4,
 "nbformat_minor": 5
}
