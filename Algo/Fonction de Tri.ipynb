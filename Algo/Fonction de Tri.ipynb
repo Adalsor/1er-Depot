{
 "cells": [
  {
   "cell_type": "code",
   "id": "initial_id",
   "metadata": {
    "collapsed": true,
    "ExecuteTime": {
     "end_time": "2025-08-05T07:06:01.076973Z",
     "start_time": "2025-08-05T07:06:01.059749Z"
    }
   },
   "source": "from sorting import *",
   "outputs": [],
   "execution_count": 1
  },
  {
   "metadata": {
    "ExecuteTime": {
     "end_time": "2025-08-05T07:06:01.116762Z",
     "start_time": "2025-08-05T07:06:01.108892Z"
    }
   },
   "cell_type": "code",
   "source": "from sorting import bubble_sort",
   "id": "e91c497cb09946e8",
   "outputs": [],
   "execution_count": 2
  },
  {
   "metadata": {
    "ExecuteTime": {
     "end_time": "2025-08-05T07:06:01.151542Z",
     "start_time": "2025-08-05T07:06:01.143610Z"
    }
   },
   "cell_type": "code",
   "source": "from sorting import bubble_sort as bbl",
   "id": "ff8df72b8bda8743",
   "outputs": [],
   "execution_count": 3
  },
  {
   "metadata": {
    "ExecuteTime": {
     "end_time": "2025-08-05T07:06:01.497322Z",
     "start_time": "2025-08-05T07:06:01.488420Z"
    }
   },
   "cell_type": "code",
   "source": "bubble_sort(generate_random_array(True))",
   "id": "526d499e4a7f94b",
   "outputs": [],
   "execution_count": 4
  },
  {
   "metadata": {
    "ExecuteTime": {
     "end_time": "2025-08-05T07:06:01.624525Z",
     "start_time": "2025-08-05T07:06:01.616923Z"
    }
   },
   "cell_type": "code",
   "source": "bbl(generate_random_array(True))",
   "id": "f197d9d4e5d7220c",
   "outputs": [],
   "execution_count": 5
  },
  {
   "metadata": {},
   "cell_type": "markdown",
   "source": "Debut code",
   "id": "ea0ef91d04f47505"
  },
  {
   "metadata": {
    "ExecuteTime": {
     "end_time": "2025-08-05T07:06:02.571012Z",
     "start_time": "2025-08-05T07:06:01.686826Z"
    }
   },
   "cell_type": "code",
   "source": "from matplotlib import pyplot as plt",
   "id": "f020556dad83956d",
   "outputs": [],
   "execution_count": 6
  },
  {
   "metadata": {
    "ExecuteTime": {
     "end_time": "2025-08-05T07:06:02.612529Z",
     "start_time": "2025-08-05T07:06:02.603053Z"
    }
   },
   "cell_type": "code",
   "source": "import time",
   "id": "eb030f6d44b15c83",
   "outputs": [],
   "execution_count": 7
  },
  {
   "metadata": {
    "ExecuteTime": {
     "end_time": "2025-08-05T07:06:02.652562Z",
     "start_time": "2025-08-05T07:06:02.643913Z"
    }
   },
   "cell_type": "code",
   "source": [
    "def temps(fonction, param):\n",
    "    debut = time.time()\n",
    "    fonction(param)\n",
    "    fin = time.time()\n",
    "    return fin - debut"
   ],
   "id": "d84788359a95fec",
   "outputs": [],
   "execution_count": 8
  },
  {
   "metadata": {
    "ExecuteTime": {
     "end_time": "2025-08-05T07:06:02.697643Z",
     "start_time": "2025-08-05T07:06:02.684079Z"
    }
   },
   "cell_type": "code",
   "source": "temps(bubble_sort, generate_random_array(True))",
   "id": "1ae28284b5220fb2",
   "outputs": [
    {
     "data": {
      "text/plain": [
       "1.0728836059570312e-05"
      ]
     },
     "execution_count": 9,
     "metadata": {},
     "output_type": "execute_result"
    }
   ],
   "execution_count": 9
  },
  {
   "metadata": {
    "ExecuteTime": {
     "end_time": "2025-08-05T07:25:51.583061Z",
     "start_time": "2025-08-05T07:25:51.573987Z"
    }
   },
   "cell_type": "code",
   "source": [
    "a = temps(bubble_sort, generate_random_array(N=10))\n",
    "b = temps(insertion_sort, generate_random_array(N=10))\n",
    "c = temps(selection_sort, generate_random_array(N=10))\n",
    "d = temps(merge_sort, generate_random_array(N=10))"
   ],
   "id": "d9fd8fb9a2e545b8",
   "outputs": [],
   "execution_count": 95
  },
  {
   "metadata": {
    "ExecuteTime": {
     "end_time": "2025-08-05T07:25:51.794953Z",
     "start_time": "2025-08-05T07:25:51.787122Z"
    }
   },
   "cell_type": "code",
   "source": [
    "valeurs = [a, b, c, d]\n",
    "noms = ['bubble', 'insertion', 'selection', 'merge']"
   ],
   "id": "843ceec587d43543",
   "outputs": [],
   "execution_count": 96
  },
  {
   "metadata": {
    "ExecuteTime": {
     "end_time": "2025-08-05T07:25:52.180511Z",
     "start_time": "2025-08-05T07:25:52.078862Z"
    }
   },
   "cell_type": "code",
   "source": [
    "plt.bar(noms, valeurs)\n",
    "plt.title(\"Fonction de Tri\")\n",
    "plt.xlabel(\"Fonction\")\n",
    "plt.ylabel(\"temps\")\n",
    "plt.show()"
   ],
   "id": "f127f663d46ade0b",
   "outputs": [
    {
     "data": {
      "text/plain": [
       "<Figure size 640x480 with 1 Axes>"
      ],
      "image/png": "[encoded data removed]"
     },
     "metadata": {},
     "output_type": "display_data"
    }
   ],
   "execution_count": 97
  },
  {
   "metadata": {
    "ExecuteTime": {
     "end_time": "2025-08-05T07:24:47.869336Z",
     "start_time": "2025-08-05T07:24:40.895619Z"
    }
   },
   "cell_type": "code",
   "source": [
    "tab = generate_random_array(N=10000)\n",
    "a = temps(bubble_sort, tab)\n",
    "b = temps(insertion_sort, tab)\n",
    "c = temps(selection_sort, tab)\n",
    "d = temps(merge_sort, tab)\n",
    "valeurs = [a, b, c, d]\n",
    "noms = ['bubble', 'insertion', 'selection', 'merge']\n",
    "plt.bar(noms, valeurs)\n",
    "plt.title(\"Fonction de Tri\")\n",
    "plt.xlabel(\"Fonction\")\n",
    "plt.ylabel(\"temps\")"
   ],
   "id": "43e372149cef2f23",
   "outputs": [
    {
     "data": {
      "text/plain": [
       "Text(0, 0.5, 'temps')"
      ]
     },
     "execution_count": 82,
     "metadata": {},
     "output_type": "execute_result"
    },
    {
     "data": {
      "text/plain": [
       "<Figure size 640x480 with 1 Axes>"
      ],
      "image/png": "[encoded data removed]"
     },
     "metadata": {},
     "output_type": "display_data"
    }
   ],
   "execution_count": 82
  },
  {
   "metadata": {},
   "cell_type": "markdown",
   "source": "Pour des petites valeurs, le tri de selection est generalement le bon choix souvent à égalité avec l'insertion. Mais avec de grandes valeurs la fonction merge est toujours la plus efficace. Avec de très grandes valeurs c'est l'insertion qui prend le dessus.",
   "id": "7eed6d555403f5f4"
  },
  {
   "metadata": {},
   "cell_type": "code",
   "outputs": [],
   "execution_count": null,
   "source": "",
   "id": "eb77393389392566"
  }
 ],
 "metadata": {
  "kernelspec": {
   "display_name": "Python 3",
   "language": "python",
   "name": "python3"
  },
  "language_info": {
   "codemirror_mode": {
    "name": "ipython",
    "version": 2
   },
   "file_extension": ".py",
   "mimetype": "text/x-python",
   "name": "python",
   "nbconvert_exporter": "python",
   "pygments_lexer": "ipython2",
   "version": "2.7.6"
  }
 },
 "nbformat": 4,
 "nbformat_minor": 5
}
