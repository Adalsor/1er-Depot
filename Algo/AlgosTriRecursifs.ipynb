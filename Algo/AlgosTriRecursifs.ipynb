{
 "cells": [
  {
   "cell_type": "markdown",
   "metadata": {},
   "source": [
    "# 0 Mise en place des fonctions de travail "
   ]
  },
  {
   "cell_type": "code",
   "metadata": {
    "jupyter": {
     "is_executing": true
    }
   },
   "source": [
    "import random\n",
    "\n",
    "def generate_random_array(debug=False, N=21):\n",
    "    \"\"\"Renvoie un tableau contenant toutes les valeurs entières de 0 (inclus)\n",
    "    à N (exclus) rangées dans un ordre aléatoire\n",
    "\n",
    "    Args:\n",
    "        debug (boolean): quand debug est vrai, la fonction renvoie toujours le\n",
    "                         même tableau afin de simplifier le débogage de vos\n",
    "                         algorithmes de tri\n",
    "        N (int): la taille du tableau à renvoyer\n",
    "\n",
    "    Returns:\n",
    "        list[int]: un tableau d'entiers, de taille N, non ordonné\n",
    "    \"\"\"\n",
    "\n",
    "    if debug:\n",
    "        return [3, 9, 7, 1, 6, 2, 8, 4, 5, 0]\n",
    "\n",
    "    array = list(range(0, N))\n",
    "    random.shuffle(array)\n",
    "\n",
    "    return array"
   ],
   "outputs": [],
   "execution_count": null
  },
  {
   "cell_type": "code",
   "metadata": {
    "ExecuteTime": {
     "end_time": "2025-08-04T12:43:37.510096500Z",
     "start_time": "2025-08-04T11:25:02.797653Z"
    }
   },
   "source": [
    "def swap(tab, i, j):\n",
    "    \"\"\"Échange la place des éléments aux indices i et j du tableau\"\"\"\n",
    "    \n",
    "    raise NotImplementedError"
   ],
   "outputs": [],
   "execution_count": 136
  },
  {
   "cell_type": "markdown",
   "metadata": {},
   "source": [
    "# 1 Les tris recursif "
   ]
  },
  {
   "cell_type": "markdown",
   "metadata": {},
   "source": [
    "## 1.1 Merge Sort"
   ]
  },
  {
   "cell_type": "code",
   "metadata": {
    "collapsed": true,
    "jupyter": {
     "outputs_hidden": true
    },
    "scrolled": true,
    "ExecuteTime": {
     "end_time": "2025-08-04T12:43:38.861162900Z",
     "start_time": "2025-08-04T11:25:02.833109Z"
    }
   },
   "source": [
    "from IPython.display import YouTubeVideo\n",
    "\n",
    "#YouTubeVideo('XaqR3G_NVoo', height=600, width=900)"
   ],
   "outputs": [],
   "execution_count": 137
  },
  {
   "cell_type": "markdown",
   "metadata": {},
   "source": [
    "```pseudocode\n",
    "FONCTION tri_fusion(liste)\n",
    "\n",
    "  // Exercice : ajouter un commentaire d'explication\n",
    "  SI longueur(liste) <= 1 ALORS\n",
    "    RETOURNER liste  \n",
    "  FIN SI\n",
    "\n",
    "  // Exercice : ajouter un commentaire d'explication\n",
    "  milieu = longueur(liste) / 2\n",
    "  gauche = sous-liste de liste depuis le début jusqu'à milieu\n",
    "  droite = sous-liste de liste depuis milieu jusqu'à la fin\n",
    "\n",
    "  // Exercice : ajouter un commentaire d'explication\n",
    "  gauche_triee = tri_fusion(gauche)\n",
    "  droite_triee = tri_fusion(droite)\n",
    "\n",
    "  // Exercice : ajouter un commentaire d'explication\n",
    "  RETOURNER fusionner(gauche_triee, droite_triee)\n",
    "FIN FONCTION\n",
    "\n",
    "FONCTION fusionner(gauche, droite)\n",
    "\n",
    "  resultat = nouvelle liste vide\n",
    "\n",
    "  // Exercice : ajouter un commentaire d'explication\n",
    "  TANT QUE longueur(gauche) > 0 ET longueur(droite) > 0 FAIRE\n",
    "    SI premier_element(gauche) <= premier_element(droite) ALORS\n",
    "      ajouter premier_element(gauche) à resultat\n",
    "      supprimer premier_element(gauche)\n",
    "    SINON\n",
    "      ajouter premier_element(droite) à resultat\n",
    "      supprimer premier_element(droite)\n",
    "    FIN SI\n",
    "  FIN TANT QUE\n",
    "\n",
    "  // Exercice : ajouter un commentaire d'explication\n",
    "  TANT QUE longueur(gauche) > 0 FAIRE\n",
    "    ajouter premier_element(gauche) à resultat\n",
    "    supprimer premier_element(gauche)\n",
    "  FIN TANT QUE\n",
    "\n",
    "  // Exercice : ajouter un commentaire d'explication\n",
    "  TANT QUE longueur(droite) > 0 FAIRE\n",
    "    ajouter premier_element(droite) à resultat\n",
    "    supprimer premier_element(droite)\n",
    "  FIN TANT QUE\n",
    "\n",
    "  RETOURNER resultat\n",
    "FIN FONCTION"
   ]
  },
  {
   "cell_type": "code",
   "metadata": {
    "ExecuteTime": {
     "end_time": "2025-08-04T12:43:38.895098500Z",
     "start_time": "2025-08-04T11:25:02.866935Z"
    }
   },
   "source": [
    "def merge_sort(tab):\n",
    "    \"\"\"Trie le tableau via le principe de « diviser pour mieux régner »\n",
    "    avec l'intelligence du tri qui se trouve au moment de la fusion\"\"\"\n",
    "\n",
    "    \"\"\"Retourne le tableau si sa longueur est égal à 1.\"\"\"\n",
    "    if len(tab) <= 1:\n",
    "        return tab\n",
    "\n",
    "    \"\"\"Divise le tableau en 2, la première moitié à gauche et la deuxième moitié à droite.\"\"\"\n",
    "    milieu = len(tab) / 2\n",
    "    gauche = tab[:int(milieu)]\n",
    "    droite = tab[int(milieu):]\n",
    "\n",
    "    \"\"\"Appel la fonction jusqu'à ce qu'elle retourne queulque chose. Ici elle retorunera le tableau lorsque sa longueur sera égal à 1.\n",
    "    On a donc une valeur du tableau de gauche dans gauche_triee et idem pour la droite.\"\"\"\n",
    "    gauche_triee = merge_sort(gauche)\n",
    "    droite_triee = merge_sort(droite)\n",
    "\n",
    "    \"\"\"Retourne nos resultats triée grace à la 2ème fonction.\"\"\"\n",
    "    return merge_sort_r(tab, gauche_triee, droite_triee)\n",
    "\n",
    "def merge_sort_r(tab, start, end):\n",
    "\n",
    "    resultat = []\n",
    "\n",
    "    \"\"\"On compare la longueur des 2 tableaux, si les 2 ont une longueur supérieur à 0, on ajoute le plus petit premier élements des 2 listes.\"\"\"\n",
    "    while len(start) > 0 and len(end) > 0:\n",
    "        if start[0] <= end[0]:\n",
    "            resultat.append(start[0])\n",
    "            start = start[1:]\n",
    "        else:\n",
    "            resultat.append(end[0])\n",
    "            end = end[1:]\n",
    "\n",
    "    \"\"\"On ajoute tout les élements restants dans la liste\"\"\"\n",
    "    while len(start) > 0:\n",
    "        resultat.append(start[0])\n",
    "        start = start[1:]\n",
    "\n",
    "    \"\"\"On ajoute tout les élements restants dans la liste\"\"\"\n",
    "    while len(end) > 0:\n",
    "        resultat.append(end[0])\n",
    "        end = end[1:]\n",
    "\n",
    "    return resultat"
   ],
   "outputs": [],
   "execution_count": 138
  },
  {
   "cell_type": "code",
   "metadata": {
    "ExecuteTime": {
     "end_time": "2025-08-04T12:43:38.898022600Z",
     "start_time": "2025-08-04T11:25:02.911068Z"
    }
   },
   "source": "merge_sort(generate_random_array(True))",
   "outputs": [
    {
     "data": {
      "text/plain": [
       "[0, 1, 2, 3, 4, 5, 6, 7, 8, 9]"
      ]
     },
     "execution_count": 139,
     "metadata": {},
     "output_type": "execute_result"
    }
   ],
   "execution_count": 139
  },
  {
   "metadata": {},
   "cell_type": "markdown",
   "source": [
    "Fonction\n",
    "O(n**2)"
   ]
  },
  {
   "cell_type": "markdown",
   "metadata": {},
   "source": [
    "## 1.2 Tri quick sort"
   ]
  },
  {
   "cell_type": "code",
   "metadata": {
    "ExecuteTime": {
     "end_time": "2025-08-04T12:43:38.925625800Z",
     "start_time": "2025-08-04T11:25:02.967560Z"
    }
   },
   "source": [
    "from IPython.display import YouTubeVideo\n",
    "\n",
    "#YouTubeVideo('ywWBy6J5gz8', height=600, width=900)"
   ],
   "outputs": [],
   "execution_count": 140
  },
  {
   "cell_type": "markdown",
   "metadata": {},
   "source": [
    "**Un pseudocode possible** \n",
    "\n",
    "\n",
    "```pseudocode\n",
    "quickSort(tableau T, entier premier, entier dernier)\n",
    "\n",
    "    // Exercice : commentaire d'explication \n",
    "    SI premier < dernier ALORS\n",
    "        index_pivot := partitionner(T, premier, dernier)\n",
    "        quickSort(T, premier, index_pivot-1)\n",
    "        quickSort(T, index_pivot+1, dernier)\n",
    "    FIN SI\n",
    "\n",
    "partition(tableau, debut, fin)\n",
    "    \n",
    "    pivot <- tableau[fin] // Choisir le dernier élément comme pivot\n",
    "\n",
    "    // Exercice : commentaire d'explication\n",
    "    index_frontiere <- debut - 1\n",
    "\n",
    "    // Exercice : commentaire d'explication\n",
    "    POUR j DE debut A fin - 1 \n",
    "        SI tableau[j] <= pivot ALORS\n",
    "            index_frontiere <- index_frontiere + 1\n",
    "            Échanger tableau[ index_frontiere ] et tableau[j]\n",
    "        FIN SI\n",
    "    FIN POUR\n",
    "\n",
    "    // Exercice : commentaire d'explication\n",
    "    Echanger(tableau[ index_frontiere + 1], tableau[fin])\n",
    "\n",
    "    RETOURNER ( index_frontiere + 1 )      \n",
    "```"
   ]
  },
  {
   "cell_type": "code",
   "metadata": {
    "ExecuteTime": {
     "end_time": "2025-08-04T12:43:38.931475800Z",
     "start_time": "2025-08-04T11:39:50.926178Z"
    }
   },
   "source": [
    "def quick_sort(tab, first=None, last=None):\n",
    "    \"\"\"Divise le tableau en deux, trie chacune des sous-parties et fusionne\n",
    "    intelligemment les deux sous-parties triées. L'intelligence se trouve\n",
    "    dans la division du tableau.\"\"\"\n",
    "\n",
    "    if first < last:\n",
    "        index = partition(tab, first, last)\n",
    "        quick_sort(tab, first, index - 1)\n",
    "        quick_sort(tab, index + 1, last)\n",
    "\n",
    "    return tab\n",
    "\n",
    "def partition(tab, first, last):\n",
    "\n",
    "    \"\"\"Changer le pivot\"\"\"\n",
    "    pivot = tab[last]\n",
    "\n",
    "    index_frontiere = first - 1\n",
    "\n",
    "    for j in range(first, last):\n",
    "        if tab[j] <= pivot:\n",
    "            index_frontiere += 1\n",
    "            tab[index_frontiere], tab[j] = tab[j], tab[index_frontiere]\n",
    "\n",
    "    tab[index_frontiere + 1], tab[last] = tab[last], tab[index_frontiere + 1]\n",
    "\n",
    "    return index_frontiere + 1\n"
   ],
   "outputs": [],
   "execution_count": 171
  },
  {
   "metadata": {
    "ExecuteTime": {
     "end_time": "2025-08-04T12:43:38.931475800Z",
     "start_time": "2025-08-04T11:39:51.990558Z"
    }
   },
   "cell_type": "code",
   "source": "quick_sort(generate_random_array(True), 0, len(generate_random_array(True)) - 1)",
   "outputs": [
    {
     "data": {
      "text/plain": [
       "[0, 1, 2, 3, 4, 5, 6, 7, 8, 9]"
      ]
     },
     "execution_count": 172,
     "metadata": {},
     "output_type": "execute_result"
    }
   ],
   "execution_count": 172
  },
  {
   "metadata": {
    "ExecuteTime": {
     "end_time": "2025-08-06T14:17:40.907201Z",
     "start_time": "2025-08-06T14:17:40.231802Z"
    }
   },
   "cell_type": "code",
   "source": "%prun quick_sort(generate_random_array(N=100), 0, len(generate_random_array(N=100)) - 1)",
   "outputs": [
    {
     "ename": "NameError",
     "evalue": "name 'quick_sort' is not defined",
     "output_type": "error",
     "traceback": [
      "\u001B[31m---------------------------------------------------------------------------\u001B[39m",
      "\u001B[31mNameError\u001B[39m                                 Traceback (most recent call last)",
      "\u001B[36mCell\u001B[39m\u001B[36m \u001B[39m\u001B[32mIn[1]\u001B[39m\u001B[32m, line 1\u001B[39m\n\u001B[32m----> \u001B[39m\u001B[32m1\u001B[39m \u001B[43mget_ipython\u001B[49m\u001B[43m(\u001B[49m\u001B[43m)\u001B[49m\u001B[43m.\u001B[49m\u001B[43mrun_line_magic\u001B[49m\u001B[43m(\u001B[49m\u001B[33;43m'\u001B[39;49m\u001B[33;43mprun\u001B[39;49m\u001B[33;43m'\u001B[39;49m\u001B[43m,\u001B[49m\u001B[43m \u001B[49m\u001B[33;43m'\u001B[39;49m\u001B[33;43mquick_sort(generate_random_array(N=100), 0, len(generate_random_array(N=100)) - 1)\u001B[39;49m\u001B[33;43m'\u001B[39;49m\u001B[43m)\u001B[49m\n",
      "\u001B[36mFile \u001B[39m\u001B[32m~\\PycharmProjects\\PythonProject-1\\.venv\\Lib\\site-packages\\IPython\\core\\interactiveshell.py:2504\u001B[39m, in \u001B[36mInteractiveShell.run_line_magic\u001B[39m\u001B[34m(self, magic_name, line, _stack_depth)\u001B[39m\n\u001B[32m   2502\u001B[39m     kwargs[\u001B[33m'\u001B[39m\u001B[33mlocal_ns\u001B[39m\u001B[33m'\u001B[39m] = \u001B[38;5;28mself\u001B[39m.get_local_scope(stack_depth)\n\u001B[32m   2503\u001B[39m \u001B[38;5;28;01mwith\u001B[39;00m \u001B[38;5;28mself\u001B[39m.builtin_trap:\n\u001B[32m-> \u001B[39m\u001B[32m2504\u001B[39m     result = \u001B[43mfn\u001B[49m\u001B[43m(\u001B[49m\u001B[43m*\u001B[49m\u001B[43margs\u001B[49m\u001B[43m,\u001B[49m\u001B[43m \u001B[49m\u001B[43m*\u001B[49m\u001B[43m*\u001B[49m\u001B[43mkwargs\u001B[49m\u001B[43m)\u001B[49m\n\u001B[32m   2506\u001B[39m \u001B[38;5;66;03m# The code below prevents the output from being displayed\u001B[39;00m\n\u001B[32m   2507\u001B[39m \u001B[38;5;66;03m# when using magics with decorator @output_can_be_silenced\u001B[39;00m\n\u001B[32m   2508\u001B[39m \u001B[38;5;66;03m# when the last Python token in the expression is a ';'.\u001B[39;00m\n\u001B[32m   2509\u001B[39m \u001B[38;5;28;01mif\u001B[39;00m \u001B[38;5;28mgetattr\u001B[39m(fn, magic.MAGIC_OUTPUT_CAN_BE_SILENCED, \u001B[38;5;28;01mFalse\u001B[39;00m):\n",
      "\u001B[36mFile \u001B[39m\u001B[32m~\\PycharmProjects\\PythonProject-1\\.venv\\Lib\\site-packages\\IPython\\core\\magics\\execution.py:325\u001B[39m, in \u001B[36mExecutionMagics.prun\u001B[39m\u001B[34m(self, parameter_s, cell)\u001B[39m\n\u001B[32m    323\u001B[39m     arg_str += \u001B[33m'\u001B[39m\u001B[38;5;130;01m\\n\u001B[39;00m\u001B[33m'\u001B[39m + cell\n\u001B[32m    324\u001B[39m arg_str = \u001B[38;5;28mself\u001B[39m.shell.transform_cell(arg_str)\n\u001B[32m--> \u001B[39m\u001B[32m325\u001B[39m \u001B[38;5;28;01mreturn\u001B[39;00m \u001B[38;5;28;43mself\u001B[39;49m\u001B[43m.\u001B[49m\u001B[43m_run_with_profiler\u001B[49m\u001B[43m(\u001B[49m\u001B[43marg_str\u001B[49m\u001B[43m,\u001B[49m\u001B[43m \u001B[49m\u001B[43mopts\u001B[49m\u001B[43m,\u001B[49m\u001B[43m \u001B[49m\u001B[38;5;28;43mself\u001B[39;49m\u001B[43m.\u001B[49m\u001B[43mshell\u001B[49m\u001B[43m.\u001B[49m\u001B[43muser_ns\u001B[49m\u001B[43m)\u001B[49m\n",
      "\u001B[36mFile \u001B[39m\u001B[32m~\\PycharmProjects\\PythonProject-1\\.venv\\Lib\\site-packages\\IPython\\core\\magics\\execution.py:347\u001B[39m, in \u001B[36mExecutionMagics._run_with_profiler\u001B[39m\u001B[34m(self, code, opts, namespace)\u001B[39m\n\u001B[32m    345\u001B[39m prof = profile.Profile()\n\u001B[32m    346\u001B[39m \u001B[38;5;28;01mtry\u001B[39;00m:\n\u001B[32m--> \u001B[39m\u001B[32m347\u001B[39m     prof = \u001B[43mprof\u001B[49m\u001B[43m.\u001B[49m\u001B[43mrunctx\u001B[49m\u001B[43m(\u001B[49m\u001B[43mcode\u001B[49m\u001B[43m,\u001B[49m\u001B[43m \u001B[49m\u001B[43mnamespace\u001B[49m\u001B[43m,\u001B[49m\u001B[43m \u001B[49m\u001B[43mnamespace\u001B[49m\u001B[43m)\u001B[49m\n\u001B[32m    348\u001B[39m     sys_exit = \u001B[33m'\u001B[39m\u001B[33m'\u001B[39m\n\u001B[32m    349\u001B[39m \u001B[38;5;28;01mexcept\u001B[39;00m \u001B[38;5;167;01mSystemExit\u001B[39;00m:\n",
      "\u001B[36mFile \u001B[39m\u001B[32m~\\AppData\\Local\\Programs\\Python\\Python313\\Lib\\cProfile.py:104\u001B[39m, in \u001B[36mProfile.runctx\u001B[39m\u001B[34m(self, cmd, globals, locals)\u001B[39m\n\u001B[32m    102\u001B[39m \u001B[38;5;28mself\u001B[39m.enable()\n\u001B[32m    103\u001B[39m \u001B[38;5;28;01mtry\u001B[39;00m:\n\u001B[32m--> \u001B[39m\u001B[32m104\u001B[39m     \u001B[43mexec\u001B[49m\u001B[43m(\u001B[49m\u001B[43mcmd\u001B[49m\u001B[43m,\u001B[49m\u001B[43m \u001B[49m\u001B[38;5;28;43mglobals\u001B[39;49m\u001B[43m,\u001B[49m\u001B[43m \u001B[49m\u001B[38;5;28;43mlocals\u001B[39;49m\u001B[43m)\u001B[49m\n\u001B[32m    105\u001B[39m \u001B[38;5;28;01mfinally\u001B[39;00m:\n\u001B[32m    106\u001B[39m     \u001B[38;5;28mself\u001B[39m.disable()\n",
      "\u001B[36mFile \u001B[39m\u001B[32m<string>:1\u001B[39m\n",
      "\u001B[31mNameError\u001B[39m: name 'quick_sort' is not defined"
     ]
    }
   ],
   "execution_count": 1
  },
  {
   "metadata": {},
   "cell_type": "markdown",
   "source": "Selon le choix du pivot nos resultats peuvent être différents. Ici le pivot est optimal pour un tri précis. Mais généralement sur une liste de longueur pair, la médiane est le meilleur choix."
  },
  {
   "metadata": {},
   "cell_type": "markdown",
   "source": "On peut n'importe quel valeur pour le pivot. Generalement on prend un pivot au premier element, au dernier ou à la mediane."
  },
  {
   "metadata": {
    "ExecuteTime": {
     "end_time": "2025-08-04T12:43:38.960369300Z",
     "start_time": "2025-08-04T11:25:03.155958Z"
    }
   },
   "cell_type": "code",
   "source": "",
   "outputs": [],
   "execution_count": null
  }
 ],
 "metadata": {
  "kernelspec": {
   "display_name": "Python 3 (ipykernel)",
   "language": "python",
   "name": "python3"
  },
  "language_info": {
   "codemirror_mode": {
    "name": "ipython",
    "version": 3
   },
   "file_extension": ".py",
   "mimetype": "text/x-python",
   "name": "python",
   "nbconvert_exporter": "python",
   "pygments_lexer": "ipython3",
   "version": "3.13.3"
  }
 },
 "nbformat": 4,
 "nbformat_minor": 4
}
