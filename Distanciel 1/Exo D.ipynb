{
 "cells": [
  {
   "cell_type": "code",
   "id": "initial_id",
   "metadata": {
    "collapsed": true,
    "ExecuteTime": {
     "end_time": "2025-09-01T10:15:27.203402Z",
     "start_time": "2025-09-01T10:15:26.392148Z"
    }
   },
   "source": "import pandas as pd",
   "outputs": [],
   "execution_count": 2
  },
  {
   "metadata": {
    "ExecuteTime": {
     "end_time": "2025-09-01T10:15:27.256028Z",
     "start_time": "2025-09-01T10:15:27.230976Z"
    }
   },
   "cell_type": "code",
   "source": "df = pd.read_csv(\"example_timestamp.csv\")",
   "id": "9567383c1266c051",
   "outputs": [],
   "execution_count": 3
  },
  {
   "metadata": {
    "ExecuteTime": {
     "end_time": "2025-09-01T10:15:27.352703Z",
     "start_time": "2025-09-01T10:15:27.323258Z"
    }
   },
   "cell_type": "code",
   "source": "df",
   "id": "84ee1e9b89935903",
   "outputs": [
    {
     "data": {
      "text/plain": [
       "   displayed_name discord_id  has_joined channel_name   timestamp\n",
       "0           David       xxxx        True         Test  1756204592\n",
       "1             Léa       xxxy        True         Test  1756204602\n",
       "2        François       xxyy        True         Test  1756204612\n",
       "3          Carole       xyyy        True        Impro  1756204622\n",
       "4          Carole       xyyy       False        Impro  1756205592\n",
       "5          Audrey       xxyx        True       Campus  1756206592\n",
       "6       Angélique       xyxy        True       Campus  1756206593\n",
       "7         Pauline       xyyx        True       Campus  1756206594\n",
       "8        François       xxyy       False         Test  1756207597\n",
       "9             Léa       xxxy       False         Test  1756207598\n",
       "10          David       xxxx       False         Test  1756207598\n",
       "11        Pauline       xyyx       False       Campus  1756207600\n",
       "12      Angélique       xyxy       False       Campus  1756207610\n",
       "13         Audrey       xxyx       False       Campus  1756207612"
      ],
      "text/html": [
       "<div>\n",
       "<style scoped>\n",
       "    .dataframe tbody tr th:only-of-type {\n",
       "        vertical-align: middle;\n",
       "    }\n",
       "\n",
       "    .dataframe tbody tr th {\n",
       "        vertical-align: top;\n",
       "    }\n",
       "\n",
       "    .dataframe thead th {\n",
       "        text-align: right;\n",
       "    }\n",
       "</style>\n",
       "<table border=\"1\" class=\"dataframe\">\n",
       "  <thead>\n",
       "    <tr style=\"text-align: right;\">\n",
       "      <th></th>\n",
       "      <th>displayed_name</th>\n",
       "      <th>discord_id</th>\n",
       "      <th>has_joined</th>\n",
       "      <th>channel_name</th>\n",
       "      <th>timestamp</th>\n",
       "    </tr>\n",
       "  </thead>\n",
       "  <tbody>\n",
       "    <tr>\n",
       "      <th>0</th>\n",
       "      <td>David</td>\n",
       "      <td>xxxx</td>\n",
       "      <td>True</td>\n",
       "      <td>Test</td>\n",
       "      <td>1756204592</td>\n",
       "    </tr>\n",
       "    <tr>\n",
       "      <th>1</th>\n",
       "      <td>Léa</td>\n",
       "      <td>xxxy</td>\n",
       "      <td>True</td>\n",
       "      <td>Test</td>\n",
       "      <td>1756204602</td>\n",
       "    </tr>\n",
       "    <tr>\n",
       "      <th>2</th>\n",
       "      <td>François</td>\n",
       "      <td>xxyy</td>\n",
       "      <td>True</td>\n",
       "      <td>Test</td>\n",
       "      <td>1756204612</td>\n",
       "    </tr>\n",
       "    <tr>\n",
       "      <th>3</th>\n",
       "      <td>Carole</td>\n",
       "      <td>xyyy</td>\n",
       "      <td>True</td>\n",
       "      <td>Impro</td>\n",
       "      <td>1756204622</td>\n",
       "    </tr>\n",
       "    <tr>\n",
       "      <th>4</th>\n",
       "      <td>Carole</td>\n",
       "      <td>xyyy</td>\n",
       "      <td>False</td>\n",
       "      <td>Impro</td>\n",
       "      <td>1756205592</td>\n",
       "    </tr>\n",
       "    <tr>\n",
       "      <th>5</th>\n",
       "      <td>Audrey</td>\n",
       "      <td>xxyx</td>\n",
       "      <td>True</td>\n",
       "      <td>Campus</td>\n",
       "      <td>1756206592</td>\n",
       "    </tr>\n",
       "    <tr>\n",
       "      <th>6</th>\n",
       "      <td>Angélique</td>\n",
       "      <td>xyxy</td>\n",
       "      <td>True</td>\n",
       "      <td>Campus</td>\n",
       "      <td>1756206593</td>\n",
       "    </tr>\n",
       "    <tr>\n",
       "      <th>7</th>\n",
       "      <td>Pauline</td>\n",
       "      <td>xyyx</td>\n",
       "      <td>True</td>\n",
       "      <td>Campus</td>\n",
       "      <td>1756206594</td>\n",
       "    </tr>\n",
       "    <tr>\n",
       "      <th>8</th>\n",
       "      <td>François</td>\n",
       "      <td>xxyy</td>\n",
       "      <td>False</td>\n",
       "      <td>Test</td>\n",
       "      <td>1756207597</td>\n",
       "    </tr>\n",
       "    <tr>\n",
       "      <th>9</th>\n",
       "      <td>Léa</td>\n",
       "      <td>xxxy</td>\n",
       "      <td>False</td>\n",
       "      <td>Test</td>\n",
       "      <td>1756207598</td>\n",
       "    </tr>\n",
       "    <tr>\n",
       "      <th>10</th>\n",
       "      <td>David</td>\n",
       "      <td>xxxx</td>\n",
       "      <td>False</td>\n",
       "      <td>Test</td>\n",
       "      <td>1756207598</td>\n",
       "    </tr>\n",
       "    <tr>\n",
       "      <th>11</th>\n",
       "      <td>Pauline</td>\n",
       "      <td>xyyx</td>\n",
       "      <td>False</td>\n",
       "      <td>Campus</td>\n",
       "      <td>1756207600</td>\n",
       "    </tr>\n",
       "    <tr>\n",
       "      <th>12</th>\n",
       "      <td>Angélique</td>\n",
       "      <td>xyxy</td>\n",
       "      <td>False</td>\n",
       "      <td>Campus</td>\n",
       "      <td>1756207610</td>\n",
       "    </tr>\n",
       "    <tr>\n",
       "      <th>13</th>\n",
       "      <td>Audrey</td>\n",
       "      <td>xxyx</td>\n",
       "      <td>False</td>\n",
       "      <td>Campus</td>\n",
       "      <td>1756207612</td>\n",
       "    </tr>\n",
       "  </tbody>\n",
       "</table>\n",
       "</div>"
      ]
     },
     "execution_count": 4,
     "metadata": {},
     "output_type": "execute_result"
    }
   ],
   "execution_count": 4
  },
  {
   "metadata": {
    "ExecuteTime": {
     "end_time": "2025-09-01T10:15:27.521597Z",
     "start_time": "2025-09-01T10:15:27.514684Z"
    }
   },
   "cell_type": "code",
   "source": [
    "def generate_stats(start, end):\n",
    "  \"\"\"\n",
    "  Retourne un dictionnaire, une série ou un dataframe qui associe à chaque utilisateur le temps (en seconde) qu'il a passé au total dans un canal vocal entre le timestamp 'start' et le timestamp 'end'\n",
    "  Attention, un utilisateur peut être déjà dans un salon vocal au timestamp 'start' et peut ne pas l'avoir quitté au timestamp 'end'\n",
    "  \"\"\"\n",
    "  ...\n",
    "\n",
    "def generate_graph(dataframe_or_serie_or_dict):\n",
    "  \"\"\"\n",
    "  Si vous êtes vraiment chaud vous pouvez générer un graph avec Pandas ou MathPlotLib, choisissez seulement un type des trois types d'entrée et générez le graph que vous pensez le plus pertinent pour ces données :)\n",
    "  \"\"\"\n",
    "  ...\n",
    "\n",
    "if __name__ == \"__main__\":\n",
    "  # Vous pouvez tester avec 1756204590, 1756204601, 1756204602, 1756204603 comme début et 1756207599, 1756207609, 1756207615, 1756207612 comme fin\n",
    "  ..."
   ],
   "id": "5c29a051c198e7e1",
   "outputs": [],
   "execution_count": 5
  },
  {
   "metadata": {
    "ExecuteTime": {
     "end_time": "2025-09-01T10:15:27.677138Z",
     "start_time": "2025-09-01T10:15:27.670273Z"
    }
   },
   "cell_type": "code",
   "source": [
    "def generate_stats(start, end):\n",
    "  return end - start\n"
   ],
   "id": "d440567304f4884",
   "outputs": [],
   "execution_count": 6
  },
  {
   "metadata": {
    "ExecuteTime": {
     "end_time": "2025-09-01T10:15:28.044408Z",
     "start_time": "2025-09-01T10:15:28.032211Z"
    }
   },
   "cell_type": "code",
   "source": "generate_stats(1756204622, 1756205592)",
   "id": "7fc04f80bbae9a26",
   "outputs": [
    {
     "data": {
      "text/plain": [
       "970"
      ]
     },
     "execution_count": 7,
     "metadata": {},
     "output_type": "execute_result"
    }
   ],
   "execution_count": 7
  },
  {
   "metadata": {
    "ExecuteTime": {
     "end_time": "2025-09-01T10:15:28.184773Z",
     "start_time": "2025-09-01T10:15:28.176171Z"
    }
   },
   "cell_type": "code",
   "source": [
    "def generate(name):\n",
    "    end = int(df['timestamp'][df['displayed_name'] == name].max())\n",
    "    start = int(df['timestamp'][df['displayed_name'] == name].min())\n",
    "    d = {}\n",
    "    final = end - start\n",
    "    d[name] = final\n",
    "    return d"
   ],
   "id": "2da00b1e06b2707f",
   "outputs": [],
   "execution_count": 8
  },
  {
   "metadata": {
    "ExecuteTime": {
     "end_time": "2025-09-01T10:15:28.250277Z",
     "start_time": "2025-09-01T10:15:28.237699Z"
    }
   },
   "cell_type": "code",
   "source": "generate('David')",
   "id": "512c2699453bf440",
   "outputs": [
    {
     "data": {
      "text/plain": [
       "{'David': 3006}"
      ]
     },
     "execution_count": 9,
     "metadata": {},
     "output_type": "execute_result"
    }
   ],
   "execution_count": 9
  },
  {
   "metadata": {
    "ExecuteTime": {
     "end_time": "2025-09-01T10:15:28.351242Z",
     "start_time": "2025-09-01T10:15:28.339405Z"
    }
   },
   "cell_type": "code",
   "source": "generate('Audrey')",
   "id": "229d093490c8fea3",
   "outputs": [
    {
     "data": {
      "text/plain": [
       "{'Audrey': 1020}"
      ]
     },
     "execution_count": 10,
     "metadata": {},
     "output_type": "execute_result"
    }
   ],
   "execution_count": 10
  },
  {
   "metadata": {
    "ExecuteTime": {
     "end_time": "2025-09-01T10:15:28.505198Z",
     "start_time": "2025-09-01T10:15:28.495653Z"
    }
   },
   "cell_type": "code",
   "source": "",
   "id": "90b1671738adccc5",
   "outputs": [],
   "execution_count": null
  }
 ],
 "metadata": {
  "kernelspec": {
   "display_name": "Python 3",
   "language": "python",
   "name": "python3"
  },
  "language_info": {
   "codemirror_mode": {
    "name": "ipython",
    "version": 2
   },
   "file_extension": ".py",
   "mimetype": "text/x-python",
   "name": "python",
   "nbconvert_exporter": "python",
   "pygments_lexer": "ipython2",
   "version": "2.7.6"
  }
 },
 "nbformat": 4,
 "nbformat_minor": 5
}
